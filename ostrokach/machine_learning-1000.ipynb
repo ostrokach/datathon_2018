{
 "cells": [
  {
   "cell_type": "code",
   "execution_count": 1,
   "metadata": {
    "collapsed": true
   },
   "outputs": [],
   "source": [
    "import numpy as np\n",
    "import pandas as pd\n",
    "\n",
    "import pickle\n",
    "import os"
   ]
  },
  {
   "cell_type": "code",
   "execution_count": 2,
   "metadata": {
    "collapsed": true
   },
   "outputs": [],
   "source": [
    "from sklearn import ensemble"
   ]
  },
  {
   "cell_type": "code",
   "execution_count": 3,
   "metadata": {
    "collapsed": true
   },
   "outputs": [],
   "source": [
    "import matplotlib.pyplot as plt"
   ]
  },
  {
   "cell_type": "code",
   "execution_count": 4,
   "metadata": {
    "collapsed": true
   },
   "outputs": [],
   "source": [
    "%matplotlib inline"
   ]
  },
  {
   "cell_type": "markdown",
   "metadata": {},
   "source": [
    "# Load data"
   ]
  },
  {
   "cell_type": "code",
   "execution_count": 5,
   "metadata": {},
   "outputs": [
    {
     "name": "stdout",
     "output_type": "stream",
     "text": [
      "psl_df_cleaned.csv\t       va_df_houston.csv\r\n",
      "road_impediments_gbgeo.csv.gz  va_df_la.csv\r\n",
      "va_df_atlanta.csv\t       va_df_raleigh.csv\r\n",
      "va_df_denver.csv\t       vehicle_activity_dense_long_lat.csv.zip\r\n",
      "va_df_durham.csv\t       vehicle_activity_with_distances.csv.gz\r\n"
     ]
    }
   ],
   "source": [
    "!ls ../training_data/"
   ]
  },
  {
   "cell_type": "code",
   "execution_count": 6,
   "metadata": {
    "collapsed": true
   },
   "outputs": [],
   "source": [
    "cities = ['atlanta', 'denver', 'durham', 'houston', 'la', 'raleigh']"
   ]
  },
  {
   "cell_type": "code",
   "execution_count": 7,
   "metadata": {
    "collapsed": true
   },
   "outputs": [],
   "source": [
    "DATA = {}\n",
    "\n",
    "for city in cities:\n",
    "    DATA[city] = pd.read_csv(f'../training_data/va_df_{city}.csv')"
   ]
  },
  {
   "cell_type": "code",
   "execution_count": 8,
   "metadata": {},
   "outputs": [
    {
     "data": {
      "text/html": [
       "<div>\n",
       "<style>\n",
       "    .dataframe thead tr:only-child th {\n",
       "        text-align: right;\n",
       "    }\n",
       "\n",
       "    .dataframe thead th {\n",
       "        text-align: left;\n",
       "    }\n",
       "\n",
       "    .dataframe tbody tr th {\n",
       "        vertical-align: top;\n",
       "    }\n",
       "</style>\n",
       "<table border=\"1\" class=\"dataframe\">\n",
       "  <thead>\n",
       "    <tr style=\"text-align: right;\">\n",
       "      <th></th>\n",
       "      <th>Unnamed: 0</th>\n",
       "      <th>geohash</th>\n",
       "      <th>lat</th>\n",
       "      <th>long</th>\n",
       "      <th>city</th>\n",
       "      <th>average_idle_total</th>\n",
       "      <th>median_idle_total</th>\n",
       "      <th>cumulative_daily_idle_total</th>\n",
       "      <th>average_park_time</th>\n",
       "      <th>average_park_time_ratio</th>\n",
       "      <th>total_searching</th>\n",
       "      <th>percent_searching</th>\n",
       "    </tr>\n",
       "  </thead>\n",
       "  <tbody>\n",
       "    <tr>\n",
       "      <th>0</th>\n",
       "      <td>0</td>\n",
       "      <td>9q5cu0z</td>\n",
       "      <td>34.06</td>\n",
       "      <td>-118.29</td>\n",
       "      <td>Los Angeles</td>\n",
       "      <td>7.2526</td>\n",
       "      <td>5.9167</td>\n",
       "      <td>75.0995</td>\n",
       "      <td>6.3136</td>\n",
       "      <td>1.4596</td>\n",
       "      <td>11.0</td>\n",
       "      <td>0.0940</td>\n",
       "    </tr>\n",
       "    <tr>\n",
       "      <th>1</th>\n",
       "      <td>1</td>\n",
       "      <td>9q5cf6b</td>\n",
       "      <td>34.07</td>\n",
       "      <td>-118.38</td>\n",
       "      <td>Los Angeles</td>\n",
       "      <td>8.2758</td>\n",
       "      <td>7.1667</td>\n",
       "      <td>119.3317</td>\n",
       "      <td>6.2867</td>\n",
       "      <td>1.7713</td>\n",
       "      <td>5.0</td>\n",
       "      <td>0.0568</td>\n",
       "    </tr>\n",
       "  </tbody>\n",
       "</table>\n",
       "</div>"
      ],
      "text/plain": [
       "   Unnamed: 0  geohash    lat    long         city  average_idle_total  \\\n",
       "0           0  9q5cu0z  34.06 -118.29  Los Angeles              7.2526   \n",
       "1           1  9q5cf6b  34.07 -118.38  Los Angeles              8.2758   \n",
       "\n",
       "   median_idle_total  cumulative_daily_idle_total  average_park_time  \\\n",
       "0             5.9167                      75.0995             6.3136   \n",
       "1             7.1667                     119.3317             6.2867   \n",
       "\n",
       "   average_park_time_ratio  total_searching  percent_searching  \n",
       "0                   1.4596             11.0             0.0940  \n",
       "1                   1.7713              5.0             0.0568  "
      ]
     },
     "metadata": {},
     "output_type": "display_data"
    },
    {
     "name": "stdout",
     "output_type": "stream",
     "text": [
      "(18302, 12)\n"
     ]
    }
   ],
   "source": [
    "display(DATA['la'].head(2))\n",
    "print(DATA['la'].shape)"
   ]
  },
  {
   "cell_type": "markdown",
   "metadata": {},
   "source": [
    "## `road_impediments_gbgeo`"
   ]
  },
  {
   "cell_type": "code",
   "execution_count": 9,
   "metadata": {
    "collapsed": true
   },
   "outputs": [],
   "source": [
    "road_impediments_gbgeo = pd.read_csv('../training_data/road_impediments_gbgeo.csv.gz')"
   ]
  },
  {
   "cell_type": "code",
   "execution_count": 10,
   "metadata": {},
   "outputs": [
    {
     "data": {
      "text/plain": [
       "Index(['Unnamed: 0', 'geohash', 'average_acceleration-min',\n",
       "       'average_acceleration-max', 'average_acceleration-mean',\n",
       "       'average_acceleration-median', 'percent_vehicles_acceleration-min',\n",
       "       'percent_vehicles_acceleration-max',\n",
       "       'percent_vehicles_acceleration-mean',\n",
       "       'percent_vehicles_acceleration-median', 'average_monthly_vehicles-min',\n",
       "       'average_monthly_vehicles-max', 'average_monthly_vehicles-mean',\n",
       "       'average_monthly_vehicles-median', 'percent_car-min', 'percent_car-max',\n",
       "       'percent_car-mean', 'percent_car-median', 'percent_mpv-min',\n",
       "       'percent_mpv-max', 'percent_mpv-mean', 'percent_mpv-median',\n",
       "       'percent_ldt-min', 'percent_ldt-max', 'percent_ldt-mean',\n",
       "       'percent_ldt-median', 'percent_mdt-min', 'percent_mdt-max',\n",
       "       'percent_mdt-mean', 'percent_mdt-median', 'percent_hdt-min',\n",
       "       'percent_hdt-max', 'percent_hdt-mean', 'percent_hdt-median',\n",
       "       'percent_other-min', 'percent_other-max', 'percent_other-mean',\n",
       "       'percent_other-median'],\n",
       "      dtype='object')"
      ]
     },
     "execution_count": 10,
     "metadata": {},
     "output_type": "execute_result"
    }
   ],
   "source": [
    "road_impediments_gbgeo.columns"
   ]
  },
  {
   "cell_type": "code",
   "execution_count": 11,
   "metadata": {
    "collapsed": true
   },
   "outputs": [],
   "source": [
    "road_impediments_gbgeo_columns = [ 'average_acceleration-min',\n",
    "       'average_acceleration-max', 'average_acceleration-mean',\n",
    "       'average_acceleration-median', 'percent_vehicles_acceleration-min',\n",
    "       'percent_vehicles_acceleration-max',\n",
    "       'percent_vehicles_acceleration-mean',\n",
    "       'percent_vehicles_acceleration-median', 'average_monthly_vehicles-min',\n",
    "       'average_monthly_vehicles-max', 'average_monthly_vehicles-mean',\n",
    "       'average_monthly_vehicles-median', 'percent_car-min', 'percent_car-max',\n",
    "       'percent_car-mean', 'percent_car-median', 'percent_mpv-min',\n",
    "       'percent_mpv-max', 'percent_mpv-mean', 'percent_mpv-median',\n",
    "       'percent_ldt-min', 'percent_ldt-max', 'percent_ldt-mean',\n",
    "       'percent_ldt-median', 'percent_mdt-min', 'percent_mdt-max',\n",
    "       'percent_mdt-mean', 'percent_mdt-median', 'percent_hdt-min',\n",
    "       'percent_hdt-max', 'percent_hdt-mean', 'percent_hdt-median',\n",
    "       'percent_other-min', 'percent_other-max', 'percent_other-mean',\n",
    "       'percent_other-median',\n",
    "]"
   ]
  },
  {
   "cell_type": "markdown",
   "metadata": {},
   "source": [
    "## `vehicle_activity_with_distances`"
   ]
  },
  {
   "cell_type": "code",
   "execution_count": 12,
   "metadata": {},
   "outputs": [
    {
     "name": "stderr",
     "output_type": "stream",
     "text": [
      "/home/strokach/anaconda3/lib/python3.6/site-packages/IPython/core/interactiveshell.py:2718: DtypeWarning: Columns (3) have mixed types. Specify dtype option on import or set low_memory=False.\n",
      "  interactivity=interactivity, compiler=compiler, result=result)\n"
     ]
    }
   ],
   "source": [
    "vehicle_activity_with_distances = pd.read_csv('../training_data/vehicle_activity_with_distances.csv.gz')"
   ]
  },
  {
   "cell_type": "code",
   "execution_count": 13,
   "metadata": {},
   "outputs": [
    {
     "data": {
      "text/html": [
       "<div>\n",
       "<style>\n",
       "    .dataframe thead tr:only-child th {\n",
       "        text-align: right;\n",
       "    }\n",
       "\n",
       "    .dataframe thead th {\n",
       "        text-align: left;\n",
       "    }\n",
       "\n",
       "    .dataframe tbody tr th {\n",
       "        vertical-align: top;\n",
       "    }\n",
       "</style>\n",
       "<table border=\"1\" class=\"dataframe\">\n",
       "  <thead>\n",
       "    <tr style=\"text-align: right;\">\n",
       "      <th></th>\n",
       "      <th>Unnamed: 0</th>\n",
       "      <th>geohash</th>\n",
       "      <th>city</th>\n",
       "      <th>county</th>\n",
       "      <th>state</th>\n",
       "      <th>metro</th>\n",
       "      <th>average_idle_total</th>\n",
       "      <th>median_idle_total</th>\n",
       "      <th>cumulative_daily_idle_total</th>\n",
       "      <th>average_idle_car</th>\n",
       "      <th>...</th>\n",
       "      <th>hospital_k5</th>\n",
       "      <th>sports_venue_k1</th>\n",
       "      <th>sports_venue_k3</th>\n",
       "      <th>sports_venue_k5</th>\n",
       "      <th>church_k1</th>\n",
       "      <th>church_k3</th>\n",
       "      <th>church_k5</th>\n",
       "      <th>school_k1</th>\n",
       "      <th>school_k3</th>\n",
       "      <th>school_k5</th>\n",
       "    </tr>\n",
       "  </thead>\n",
       "  <tbody>\n",
       "    <tr>\n",
       "      <th>0</th>\n",
       "      <td>21</td>\n",
       "      <td>9q5cu0z</td>\n",
       "      <td>Los Angeles</td>\n",
       "      <td>Los Angeles</td>\n",
       "      <td>California</td>\n",
       "      <td>Los Angeles-Long Beach-Anaheim, CA</td>\n",
       "      <td>7.2526</td>\n",
       "      <td>5.9167</td>\n",
       "      <td>75.0995</td>\n",
       "      <td>8.1452</td>\n",
       "      <td>...</td>\n",
       "      <td>1.858249</td>\n",
       "      <td>2.820807</td>\n",
       "      <td>4.040846</td>\n",
       "      <td>6.344712</td>\n",
       "      <td>0.815988</td>\n",
       "      <td>2.311438</td>\n",
       "      <td>4.060180</td>\n",
       "      <td>0.346995</td>\n",
       "      <td>0.409768</td>\n",
       "      <td>0.446790</td>\n",
       "    </tr>\n",
       "    <tr>\n",
       "      <th>1</th>\n",
       "      <td>57</td>\n",
       "      <td>9q5cf6b</td>\n",
       "      <td>Los Angeles</td>\n",
       "      <td>Los Angeles</td>\n",
       "      <td>California</td>\n",
       "      <td>Los Angeles-Long Beach-Anaheim, CA</td>\n",
       "      <td>8.2758</td>\n",
       "      <td>7.1667</td>\n",
       "      <td>119.3317</td>\n",
       "      <td>5.5510</td>\n",
       "      <td>...</td>\n",
       "      <td>2.368051</td>\n",
       "      <td>6.152981</td>\n",
       "      <td>9.133728</td>\n",
       "      <td>10.011422</td>\n",
       "      <td>2.129068</td>\n",
       "      <td>3.572366</td>\n",
       "      <td>5.162235</td>\n",
       "      <td>1.296467</td>\n",
       "      <td>1.527772</td>\n",
       "      <td>1.772008</td>\n",
       "    </tr>\n",
       "  </tbody>\n",
       "</table>\n",
       "<p>2 rows × 75 columns</p>\n",
       "</div>"
      ],
      "text/plain": [
       "   Unnamed: 0  geohash         city       county       state  \\\n",
       "0          21  9q5cu0z  Los Angeles  Los Angeles  California   \n",
       "1          57  9q5cf6b  Los Angeles  Los Angeles  California   \n",
       "\n",
       "                                metro  average_idle_total  median_idle_total  \\\n",
       "0  Los Angeles-Long Beach-Anaheim, CA              7.2526             5.9167   \n",
       "1  Los Angeles-Long Beach-Anaheim, CA              8.2758             7.1667   \n",
       "\n",
       "   cumulative_daily_idle_total  average_idle_car    ...      hospital_k5  \\\n",
       "0                      75.0995            8.1452    ...         1.858249   \n",
       "1                     119.3317            5.5510    ...         2.368051   \n",
       "\n",
       "   sports_venue_k1  sports_venue_k3  sports_venue_k5 church_k1  church_k3  \\\n",
       "0         2.820807         4.040846         6.344712  0.815988   2.311438   \n",
       "1         6.152981         9.133728        10.011422  2.129068   3.572366   \n",
       "\n",
       "   church_k5  school_k1  school_k3  school_k5  \n",
       "0   4.060180   0.346995   0.409768   0.446790  \n",
       "1   5.162235   1.296467   1.527772   1.772008  \n",
       "\n",
       "[2 rows x 75 columns]"
      ]
     },
     "metadata": {},
     "output_type": "display_data"
    },
    {
     "name": "stdout",
     "output_type": "stream",
     "text": [
      "(78439, 75)\n",
      "78439\n"
     ]
    }
   ],
   "source": [
    "display(vehicle_activity_with_distances.head(2))\n",
    "print(vehicle_activity_with_distances.shape)\n",
    "print(len(set(vehicle_activity_with_distances['geohash'])))"
   ]
  },
  {
   "cell_type": "code",
   "execution_count": 14,
   "metadata": {},
   "outputs": [
    {
     "data": {
      "text/plain": [
       "Index(['Unnamed: 0', 'geohash', 'city', 'county', 'state', 'metro',\n",
       "       'average_idle_total', 'median_idle_total',\n",
       "       'cumulative_daily_idle_total', 'average_idle_car', 'average_idle_mpv',\n",
       "       'average_idle_ldt', 'average_idle_mdt', 'average_idle_hdt',\n",
       "       'hourly_distribution_idle', 'percent_car_idle', 'percent_mpv_idle',\n",
       "       'percent_ldt_idle', 'percent_mdt_idle', 'percent_hdt_idle',\n",
       "       'percent_other_idle', 'percent_gas_idle', 'percent_diesel_idle',\n",
       "       'percent_other_engine_idle', 'average_latitude_park',\n",
       "       'average_longitude_park', 'average_park_time',\n",
       "       'average_park_time_ratio', 'total_searching', 'percent_searching',\n",
       "       'average_unique_geohashes', 'average_total_geohashes',\n",
       "       'circling_distribution', 'hourly_distribution_park', 'percent_car_park',\n",
       "       'percent_mpv_park', 'percent_ldt_park', 'percent_mdt_park',\n",
       "       'percent_hdt_park', 'percent_other_park', 'latitude', 'longitude',\n",
       "       'closest_fuel_station_k1', 'closest_fuel_station_k3',\n",
       "       'closest_fuel_station_k5', 'cell_coverage_dark_spot_k1',\n",
       "       'cell_coverage_dark_spot_k3', 'cell_coverage_dark_spot_k5',\n",
       "       'heavy_duty_parking_k1', 'heavy_duty_parking_k3',\n",
       "       'heavy_duty_parking_k5', 'service_center_metrics_k1',\n",
       "       'service_center_metrics_k3', 'service_center_metrics_k5',\n",
       "       'public_services_locations_k1', 'public_services_locations_k3',\n",
       "       'public_services_locations_k5', 'cell_structure_k1',\n",
       "       'cell_structure_k3', 'cell_structure_k5', 'college_k1', 'college_k3',\n",
       "       'college_k5', 'hospital_k1', 'hospital_k3', 'hospital_k5',\n",
       "       'sports_venue_k1', 'sports_venue_k3', 'sports_venue_k5', 'church_k1',\n",
       "       'church_k3', 'church_k5', 'school_k1', 'school_k3', 'school_k5'],\n",
       "      dtype='object')"
      ]
     },
     "execution_count": 14,
     "metadata": {},
     "output_type": "execute_result"
    }
   ],
   "source": [
    "vehicle_activity_with_distances.columns"
   ]
  },
  {
   "cell_type": "code",
   "execution_count": 15,
   "metadata": {
    "collapsed": true
   },
   "outputs": [],
   "source": [
    "vehicle_activity_with_distances_columns = [\n",
    "    'closest_fuel_station_k1', 'closest_fuel_station_k3',\n",
    "       'closest_fuel_station_k5', 'cell_coverage_dark_spot_k1',\n",
    "       'cell_coverage_dark_spot_k3', 'cell_coverage_dark_spot_k5',\n",
    "       'heavy_duty_parking_k1', 'heavy_duty_parking_k3',\n",
    "       'heavy_duty_parking_k5', 'service_center_metrics_k1',\n",
    "       'service_center_metrics_k3', 'service_center_metrics_k5',\n",
    "       'public_services_locations_k1', 'public_services_locations_k3',\n",
    "       'public_services_locations_k5', 'cell_structure_k1',\n",
    "       'cell_structure_k3', 'cell_structure_k5', 'college_k1', 'college_k3',\n",
    "       'college_k5', 'hospital_k1', 'hospital_k3', 'hospital_k5',\n",
    "       'sports_venue_k1', 'sports_venue_k3', 'sports_venue_k5', 'church_k1',\n",
    "       'church_k3', 'church_k5', 'school_k1', 'school_k3', 'school_k5',\n",
    "    \n",
    "]"
   ]
  },
  {
   "cell_type": "markdown",
   "metadata": {},
   "source": [
    "# Train model for city"
   ]
  },
  {
   "cell_type": "code",
   "execution_count": 44,
   "metadata": {
    "collapsed": true
   },
   "outputs": [],
   "source": [
    "n_estimators = 1000"
   ]
  },
  {
   "cell_type": "code",
   "execution_count": 45,
   "metadata": {
    "collapsed": true
   },
   "outputs": [],
   "source": [
    "data = (\n",
    "    DATA['la']\n",
    "    .merge(road_impediments_gbgeo[['geohash'] + road_impediments_gbgeo_columns], on=['geohash'], how='left')\n",
    "    .merge(vehicle_activity_with_distances[['geohash'] + vehicle_activity_with_distances_columns], on=['geohash'])\n",
    ")"
   ]
  },
  {
   "cell_type": "code",
   "execution_count": 46,
   "metadata": {
    "collapsed": true
   },
   "outputs": [],
   "source": [
    "assert len(data) == len(DATA['la'])"
   ]
  },
  {
   "cell_type": "code",
   "execution_count": 47,
   "metadata": {
    "collapsed": true
   },
   "outputs": [],
   "source": [
    "feature_names = road_impediments_gbgeo_columns + vehicle_activity_with_distances_columns\n",
    "# feature_names = vehicle_activity_with_distances_columns"
   ]
  },
  {
   "cell_type": "code",
   "execution_count": 48,
   "metadata": {
    "collapsed": true
   },
   "outputs": [],
   "source": [
    "null_mask = data[feature_names + ['average_idle_total']].isnull().any(axis=1)"
   ]
  },
  {
   "cell_type": "code",
   "execution_count": 49,
   "metadata": {},
   "outputs": [
    {
     "data": {
      "text/plain": [
       "1106"
      ]
     },
     "execution_count": 49,
     "metadata": {},
     "output_type": "execute_result"
    }
   ],
   "source": [
    "null_mask.sum()"
   ]
  },
  {
   "cell_type": "code",
   "execution_count": 50,
   "metadata": {
    "collapsed": true
   },
   "outputs": [],
   "source": [
    "data = data[~null_mask]"
   ]
  },
  {
   "cell_type": "code",
   "execution_count": 51,
   "metadata": {
    "collapsed": true
   },
   "outputs": [],
   "source": [
    "X = data[feature_names]"
   ]
  },
  {
   "cell_type": "code",
   "execution_count": 52,
   "metadata": {
    "collapsed": true
   },
   "outputs": [],
   "source": [
    "Y = data['average_idle_total']"
   ]
  },
  {
   "cell_type": "code",
   "execution_count": 53,
   "metadata": {
    "collapsed": true
   },
   "outputs": [],
   "source": [
    "clf = ensemble.GradientBoostingRegressor(n_estimators=n_estimators)"
   ]
  },
  {
   "cell_type": "code",
   "execution_count": 54,
   "metadata": {},
   "outputs": [
    {
     "data": {
      "text/plain": [
       "GradientBoostingRegressor(alpha=0.9, criterion='friedman_mse', init=None,\n",
       "             learning_rate=0.1, loss='ls', max_depth=3, max_features=None,\n",
       "             max_leaf_nodes=None, min_impurity_decrease=0.0,\n",
       "             min_impurity_split=None, min_samples_leaf=1,\n",
       "             min_samples_split=2, min_weight_fraction_leaf=0.0,\n",
       "             n_estimators=1000, presort='auto', random_state=None,\n",
       "             subsample=1.0, verbose=0, warm_start=False)"
      ]
     },
     "execution_count": 54,
     "metadata": {},
     "output_type": "execute_result"
    }
   ],
   "source": [
    "clf.fit(X, Y)"
   ]
  },
  {
   "cell_type": "code",
   "execution_count": 55,
   "metadata": {
    "collapsed": true
   },
   "outputs": [],
   "source": [
    "with open(f'machine_learning/clf_{n_estimators}.pickle', 'wb') as fout:\n",
    "    pickle.dump(clf, fout)"
   ]
  },
  {
   "cell_type": "code",
   "execution_count": 56,
   "metadata": {
    "scrolled": true
   },
   "outputs": [
    {
     "data": {
      "image/png": "[encoded data removed]",
      "text/plain": [
       "<matplotlib.figure.Figure at 0x7fe4a0783048>"
      ]
     },
     "metadata": {},
     "output_type": "display_data"
    }
   ],
   "source": [
    "fg, axs = plt.subplots(figsize=(8, 8))\n",
    "\n",
    "feature_importance = clf.feature_importances_\n",
    "# make importances relative to max importance\n",
    "feature_importance = 100.0 * (feature_importance / feature_importance.max())\n",
    "sorted_idx = np.argsort(feature_importance)\n",
    "pos = np.arange(sorted_idx.shape[0]) + .5\n",
    "\n",
    "top_k = 20\n",
    "plt.barh(pos[:top_k], feature_importance[sorted_idx][:top_k], align='center')\n",
    "plt.yticks(pos[:top_k], np.array(feature_names)[sorted_idx][:top_k])\n",
    "plt.xlabel('Relative Importance')\n",
    "plt.title('Variable Importance')\n",
    "\n",
    "plt.tight_layout()\n",
    "plt.savefig(f'machine_learning/variable_importance_{n_estimators}.pdf', dpi=150)"
   ]
  },
  {
   "cell_type": "code",
   "execution_count": 57,
   "metadata": {
    "collapsed": true
   },
   "outputs": [],
   "source": [
    "from sklearn.ensemble.partial_dependence import plot_partial_dependence\n",
    "from sklearn.ensemble.partial_dependence import partial_dependence"
   ]
  },
  {
   "cell_type": "code",
   "execution_count": 58,
   "metadata": {},
   "outputs": [
    {
     "data": {
      "text/plain": [
       "array([58, 59, 62, 54, 65, 50, 48, 37, 64, 61, 56, 46, 66, 49, 55, 57, 63,\n",
       "        4, 67, 60, 40, 68, 38, 44, 12, 43, 36, 45,  8, 39, 19, 51, 52, 32,\n",
       "       13, 53, 15, 47, 20, 21, 16,  0, 18, 41, 17, 31, 33, 11, 27, 29, 22,\n",
       "       30, 23,  7, 28, 26, 42, 35,  5, 34, 10,  6, 14,  2,  9,  1, 25, 24,\n",
       "        3])"
      ]
     },
     "execution_count": 58,
     "metadata": {},
     "output_type": "execute_result"
    }
   ],
   "source": [
    "sorted_idx"
   ]
  },
  {
   "cell_type": "code",
   "execution_count": 59,
   "metadata": {},
   "outputs": [
    {
     "data": {
      "text/plain": [
       "array([  49.71132104,   77.15048843,   70.44260007,  100.        ,\n",
       "         28.45910003,   67.20026492,   69.88420966,   63.18474312,\n",
       "         33.12994891,   72.27341694,   69.22988664,   56.66074857,\n",
       "         30.48462251,   38.16995583,   69.9668243 ,   39.99261999,\n",
       "         48.88712326,   54.74006591,   50.00653336,   35.19488892,\n",
       "         45.32199628,   46.02425312,   59.89789322,   61.19153036,\n",
       "         89.41767482,   84.235229  ,   64.0510691 ,   56.96976851,\n",
       "         63.52970936,   59.642339  ,   60.09405326,   54.74008212,\n",
       "         37.56041125,   56.14565202,   68.08727562,   64.61098113,\n",
       "         31.76110065,   20.81520196,   30.06411666,   33.17975789,\n",
       "         29.41157349,   50.16907386,   64.40723134,   31.36224874,\n",
       "         30.45210094,   32.51585852,   22.81532677,   43.68115997,\n",
       "         18.47790475,   24.34882907,   15.4187476 ,   36.80582626,\n",
       "         37.09330355,   38.85605445,   14.09168798,   25.14769389,\n",
       "         22.12291511,   27.67685178,   10.4664207 ,   11.58584444,\n",
       "         29.02478903,   21.76084065,   14.02487934,   28.41289663,\n",
       "         21.74588207,   15.34278861,   23.34385799,   28.99433927,\n",
       "         29.79888635])"
      ]
     },
     "execution_count": 59,
     "metadata": {},
     "output_type": "execute_result"
    }
   ],
   "source": [
    "feature_importance"
   ]
  },
  {
   "cell_type": "code",
   "execution_count": 60,
   "metadata": {
    "collapsed": true
   },
   "outputs": [],
   "source": [
    "import matplotlib \n",
    "matplotlib.rcParams.update({'font.size': 14})"
   ]
  },
  {
   "cell_type": "code",
   "execution_count": 61,
   "metadata": {},
   "outputs": [
    {
     "data": {
      "image/png": "[encoded data removed]",
      "text/plain": [
       "<matplotlib.figure.Figure at 0x7fe4a0a010f0>"
      ]
     },
     "metadata": {},
     "output_type": "display_data"
    }
   ],
   "source": [
    "features = sorted_idx.tolist()[:9]\n",
    "\n",
    "fig, axs = plot_partial_dependence(\n",
    "    clf, X, features, feature_names=feature_names, n_jobs=3, grid_resolution=100, figsize=(12, 9))\n",
    "\n",
    "plt.tight_layout()\n",
    "\n",
    "plt.savefig(f'machine_learning/partial_dependence_{n_estimators}.pdf', dpi=150)"
   ]
  },
  {
   "cell_type": "markdown",
   "metadata": {},
   "source": [
    "# Validation"
   ]
  },
  {
   "cell_type": "code",
   "execution_count": 62,
   "metadata": {
    "collapsed": true
   },
   "outputs": [],
   "source": [
    "data_valid = (\n",
    "    DATA['atlanta']\n",
    "    .merge(road_impediments_gbgeo[['geohash'] + road_impediments_gbgeo_columns], on=['geohash'], how='left')\n",
    "    .merge(vehicle_activity_with_distances[['geohash'] + vehicle_activity_with_distances_columns], on=['geohash'])\n",
    ")"
   ]
  },
  {
   "cell_type": "code",
   "execution_count": 63,
   "metadata": {
    "collapsed": true
   },
   "outputs": [],
   "source": [
    "null_mask_valid = data_valid[feature_names + ['average_idle_total']].isnull().any(axis=1)"
   ]
  },
  {
   "cell_type": "code",
   "execution_count": 64,
   "metadata": {},
   "outputs": [
    {
     "data": {
      "text/plain": [
       "439"
      ]
     },
     "execution_count": 64,
     "metadata": {},
     "output_type": "execute_result"
    }
   ],
   "source": [
    "null_mask_valid.sum()"
   ]
  },
  {
   "cell_type": "code",
   "execution_count": 65,
   "metadata": {
    "collapsed": true
   },
   "outputs": [],
   "source": [
    "data_valid = data_valid[~null_mask_valid]"
   ]
  },
  {
   "cell_type": "code",
   "execution_count": 66,
   "metadata": {
    "collapsed": true
   },
   "outputs": [],
   "source": [
    "X_valid = data_valid[feature_names]"
   ]
  },
  {
   "cell_type": "code",
   "execution_count": 67,
   "metadata": {
    "collapsed": true
   },
   "outputs": [],
   "source": [
    "Y_valid = data_valid['average_idle_total']"
   ]
  },
  {
   "cell_type": "code",
   "execution_count": 68,
   "metadata": {
    "collapsed": true
   },
   "outputs": [],
   "source": [
    "Y_valid_pred = clf.predict(X_valid)"
   ]
  },
  {
   "cell_type": "code",
   "execution_count": 73,
   "metadata": {},
   "outputs": [
    {
     "data": {
      "image/png": "[encoded data removed]",
      "text/plain": [
       "<matplotlib.figure.Figure at 0x7fe4a097eda0>"
      ]
     },
     "metadata": {},
     "output_type": "display_data"
    }
   ],
   "source": [
    "plt.plot(Y_valid, Y_valid_pred, 'r.')\n",
    "# plt.xlim(2, 20)\n",
    "# plt.ylim(5, 12)\n",
    "\n",
    "plt.xlabel('Average idle time in Atlanta (min)')\n",
    "plt.ylabel('Predicted idle time in Atlanta (min)')\n",
    "\n",
    "plt.savefig(f'machine_learning/validation_set_performance_{n_estimators}.pdf', dpi=150)"
   ]
  },
  {
   "cell_type": "code",
   "execution_count": 70,
   "metadata": {
    "collapsed": true
   },
   "outputs": [],
   "source": [
    "import scipy as sp"
   ]
  },
  {
   "cell_type": "code",
   "execution_count": 71,
   "metadata": {},
   "outputs": [
    {
     "data": {
      "text/plain": [
       "SpearmanrResult(correlation=0.12132240926218887, pvalue=8.2944004874859462e-23)"
      ]
     },
     "execution_count": 71,
     "metadata": {},
     "output_type": "execute_result"
    }
   ],
   "source": [
    "sp.stats.spearmanr(Y_valid, Y_valid_pred)"
   ]
  }
 ],
 "metadata": {
  "anaconda-cloud": {},
  "kernelspec": {
   "display_name": "Python [default]",
   "language": "python",
   "name": "python3"
  },
  "language_info": {
   "codemirror_mode": {
    "name": "ipython",
    "version": 3
   },
   "file_extension": ".py",
   "mimetype": "text/x-python",
   "name": "python",
   "nbconvert_exporter": "python",
   "pygments_lexer": "ipython3",
   "version": "3.6.2"
  },
  "toc": {
   "colors": {
    "hover_highlight": "#DAA520",
    "navigate_num": "#000000",
    "navigate_text": "#333333",
    "running_highlight": "#FF0000",
    "selected_highlight": "#FFD700",
    "sidebar_border": "#EEEEEE",
    "wrapper_background": "#FFFFFF"
   },
   "moveMenuLeft": true,
   "nav_menu": {
    "height": "82px",
    "width": "252px"
   },
   "navigate_menu": true,
   "number_sections": false,
   "sideBar": false,
   "threshold": 4,
   "toc_cell": false,
   "toc_position": {
    "height": "320px",
    "left": "1275.92px",
    "right": "20px",
    "top": "84.941px",
    "width": "210px"
   },
   "toc_section_display": "block",
   "toc_window_display": true,
   "widenNotebook": false
  }
 },
 "nbformat": 4,
 "nbformat_minor": 2
}
