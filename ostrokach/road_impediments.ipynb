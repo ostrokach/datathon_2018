{
 "cells": [
  {
   "cell_type": "code",
   "execution_count": 104,
   "metadata": {
    "collapsed": true
   },
   "outputs": [],
   "source": [
    "import os\n",
    "\n",
    "import numpy as np\n",
    "import pandas as pd\n",
    "import pygeohash as pgh"
   ]
  },
  {
   "cell_type": "code",
   "execution_count": null,
   "metadata": {
    "collapsed": true
   },
   "outputs": [],
   "source": []
  },
  {
   "cell_type": "code",
   "execution_count": null,
   "metadata": {
    "collapsed": true
   },
   "outputs": [],
   "source": []
  },
  {
   "cell_type": "code",
   "execution_count": 4,
   "metadata": {},
   "outputs": [
    {
     "name": "stdout",
     "output_type": "stream",
     "text": [
      "cell_coverage_dark_spots.csv  public_services_locations.csv\r\n",
      "fuel_station_metrics.csv      road_impediments.csv.gz\r\n",
      "government_finances.csv.gz    service_centre_metrics.csv\r\n",
      "hazardous_driving_areas.csv   vehicle_activity.csv.gz\r\n",
      "heavy_duty_parking.csv\t      weather.csv.gz\r\n"
     ]
    }
   ],
   "source": [
    "!ls ../datathon_materials"
   ]
  },
  {
   "cell_type": "code",
   "execution_count": 79,
   "metadata": {
    "collapsed": true
   },
   "outputs": [],
   "source": [
    "os.makedirs('output')"
   ]
  },
  {
   "cell_type": "markdown",
   "metadata": {},
   "source": [
    "# Functions"
   ]
  },
  {
   "cell_type": "code",
   "execution_count": 175,
   "metadata": {
    "collapsed": true
   },
   "outputs": [],
   "source": [
    "def distance(origin, destination):\n",
    "    lat1, lon1 = origin\n",
    "    lat2 = destination[:, 0]\n",
    "    lon2 = destination[:, 1]\n",
    "    EARTH_RADIUS = 6371.009\n",
    "\n",
    "    dlat = np.radians(lat2-lat1)\n",
    "    dlon = np.radians(lon2-lon1)\n",
    "    a = np.sin(dlat/2) * np.sin(dlat/2) + np.cos(np.radians(lat1)) \\\n",
    "        * np.cos(np.radians(lat2)) * np.sin(dlon/2) * np.sin(dlon/2)\n",
    "    c = 2 * np.arctan2(np.sqrt(a), np.sqrt(1-a))\n",
    "    d = EARTH_RADIUS * c\n",
    "\n",
    "    return d"
   ]
  },
  {
   "cell_type": "code",
   "execution_count": 183,
   "metadata": {
    "collapsed": true
   },
   "outputs": [],
   "source": [
    "def avg_min_distance(origin, destinations, ks=[1,2,3]):\n",
    "    distances = distance(origin, destinations)\n",
    "    return [np.average(np.sort(distances)[:k]) for k in ks]"
   ]
  },
  {
   "cell_type": "code",
   "execution_count": null,
   "metadata": {
    "collapsed": true
   },
   "outputs": [],
   "source": [
    "from geopy.distance import vincenty\n",
    "newport_ri = (41.49008, -71.312796)\n",
    "cleveland_oh = (41.499498, -81.695391)\n",
    "print(vincenty(newport_ri, cleveland_oh).km)"
   ]
  },
  {
   "cell_type": "code",
   "execution_count": null,
   "metadata": {
    "collapsed": true
   },
   "outputs": [],
   "source": [
    "np.sort(distance(np.array([newport_ri[0], newport_ri[1]]), \n",
    "         np.array([[cleveland_oh[0], cleveland_oh[1]], \n",
    "                   [1000, 1000],\n",
    "                   [cleveland_oh[0], cleveland_oh[1]]])))"
   ]
  },
  {
   "cell_type": "code",
   "execution_count": null,
   "metadata": {
    "collapsed": true
   },
   "outputs": [],
   "source": []
  },
  {
   "cell_type": "markdown",
   "metadata": {},
   "source": [
    "# Load data"
   ]
  },
  {
   "cell_type": "code",
   "execution_count": 82,
   "metadata": {
    "collapsed": true
   },
   "outputs": [],
   "source": [
    "CITIES = {'Atlanta', 'Denver', 'Houston', 'Los Angeles', 'Raleigh', 'Durham', 'Toronto'}"
   ]
  },
  {
   "cell_type": "markdown",
   "metadata": {},
   "source": [
    "## `vehicle_activity`"
   ]
  },
  {
   "cell_type": "code",
   "execution_count": 8,
   "metadata": {},
   "outputs": [
    {
     "name": "stderr",
     "output_type": "stream",
     "text": [
      "/home/strokach/anaconda3/lib/python3.6/site-packages/IPython/core/interactiveshell.py:2718: DtypeWarning: Columns (2) have mixed types. Specify dtype option on import or set low_memory=False.\n",
      "  interactivity=interactivity, compiler=compiler, result=result)\n"
     ]
    }
   ],
   "source": [
    "vehicle_activity = pd.read_csv('../datathon_materials/vehicle_activity.csv.gz')"
   ]
  },
  {
   "cell_type": "code",
   "execution_count": 34,
   "metadata": {},
   "outputs": [
    {
     "data": {
      "text/html": [
       "<div>\n",
       "<style>\n",
       "    .dataframe thead tr:only-child th {\n",
       "        text-align: right;\n",
       "    }\n",
       "\n",
       "    .dataframe thead th {\n",
       "        text-align: left;\n",
       "    }\n",
       "\n",
       "    .dataframe tbody tr th {\n",
       "        vertical-align: top;\n",
       "    }\n",
       "</style>\n",
       "<table border=\"1\" class=\"dataframe\">\n",
       "  <thead>\n",
       "    <tr style=\"text-align: right;\">\n",
       "      <th></th>\n",
       "      <th>geohash</th>\n",
       "      <th>city</th>\n",
       "      <th>county</th>\n",
       "      <th>state</th>\n",
       "      <th>metro</th>\n",
       "      <th>average_idle_total</th>\n",
       "      <th>median_idle_total</th>\n",
       "      <th>cumulative_daily_idle_total</th>\n",
       "      <th>average_idle_car</th>\n",
       "      <th>average_idle_mpv</th>\n",
       "      <th>...</th>\n",
       "      <th>average_unique_geohashes</th>\n",
       "      <th>average_total_geohashes</th>\n",
       "      <th>circling_distribution</th>\n",
       "      <th>hourly_distribution_park</th>\n",
       "      <th>percent_car_park</th>\n",
       "      <th>percent_mpv_park</th>\n",
       "      <th>percent_ldt_park</th>\n",
       "      <th>percent_mdt_park</th>\n",
       "      <th>percent_hdt_park</th>\n",
       "      <th>percent_other_park</th>\n",
       "    </tr>\n",
       "  </thead>\n",
       "  <tbody>\n",
       "    <tr>\n",
       "      <th>0</th>\n",
       "      <td>9mupmfr</td>\n",
       "      <td>NaN</td>\n",
       "      <td>NaN</td>\n",
       "      <td>NaN</td>\n",
       "      <td>Los Angeles-Long Beach-Anaheim, CA</td>\n",
       "      <td>5.2605</td>\n",
       "      <td>4.3333</td>\n",
       "      <td>10.2818</td>\n",
       "      <td>0.0000</td>\n",
       "      <td>4.6642</td>\n",
       "      <td>...</td>\n",
       "      <td>NaN</td>\n",
       "      <td>NaN</td>\n",
       "      <td>NaN</td>\n",
       "      <td>NaN</td>\n",
       "      <td>NaN</td>\n",
       "      <td>NaN</td>\n",
       "      <td>NaN</td>\n",
       "      <td>NaN</td>\n",
       "      <td>NaN</td>\n",
       "      <td>NaN</td>\n",
       "    </tr>\n",
       "    <tr>\n",
       "      <th>1</th>\n",
       "      <td>9q5c4jz</td>\n",
       "      <td>NaN</td>\n",
       "      <td>NaN</td>\n",
       "      <td>NaN</td>\n",
       "      <td>Los Angeles-Long Beach-Anaheim, CA</td>\n",
       "      <td>9.6581</td>\n",
       "      <td>5.8500</td>\n",
       "      <td>95.9575</td>\n",
       "      <td>8.5833</td>\n",
       "      <td>5.5725</td>\n",
       "      <td>...</td>\n",
       "      <td>NaN</td>\n",
       "      <td>NaN</td>\n",
       "      <td>NaN</td>\n",
       "      <td>NaN</td>\n",
       "      <td>NaN</td>\n",
       "      <td>NaN</td>\n",
       "      <td>NaN</td>\n",
       "      <td>NaN</td>\n",
       "      <td>NaN</td>\n",
       "      <td>NaN</td>\n",
       "    </tr>\n",
       "  </tbody>\n",
       "</table>\n",
       "<p>2 rows × 39 columns</p>\n",
       "</div>"
      ],
      "text/plain": [
       "   geohash city county state                               metro  \\\n",
       "0  9mupmfr  NaN    NaN   NaN  Los Angeles-Long Beach-Anaheim, CA   \n",
       "1  9q5c4jz  NaN    NaN   NaN  Los Angeles-Long Beach-Anaheim, CA   \n",
       "\n",
       "   average_idle_total  median_idle_total  cumulative_daily_idle_total  \\\n",
       "0              5.2605             4.3333                      10.2818   \n",
       "1              9.6581             5.8500                      95.9575   \n",
       "\n",
       "   average_idle_car  average_idle_mpv         ...          \\\n",
       "0            0.0000            4.6642         ...           \n",
       "1            8.5833            5.5725         ...           \n",
       "\n",
       "   average_unique_geohashes  average_total_geohashes  circling_distribution  \\\n",
       "0                       NaN                      NaN                    NaN   \n",
       "1                       NaN                      NaN                    NaN   \n",
       "\n",
       "  hourly_distribution_park  percent_car_park  percent_mpv_park  \\\n",
       "0                      NaN               NaN               NaN   \n",
       "1                      NaN               NaN               NaN   \n",
       "\n",
       "   percent_ldt_park  percent_mdt_park  percent_hdt_park  percent_other_park  \n",
       "0               NaN               NaN               NaN                 NaN  \n",
       "1               NaN               NaN               NaN                 NaN  \n",
       "\n",
       "[2 rows x 39 columns]"
      ]
     },
     "metadata": {},
     "output_type": "display_data"
    },
    {
     "name": "stdout",
     "output_type": "stream",
     "text": [
      "(293437, 39)\n"
     ]
    }
   ],
   "source": [
    "display(vehicle_activity.head(2))\n",
    "print(vehicle_activity.shape)"
   ]
  },
  {
   "cell_type": "markdown",
   "metadata": {},
   "source": [
    "### Keep cities"
   ]
  },
  {
   "cell_type": "code",
   "execution_count": 99,
   "metadata": {
    "collapsed": true
   },
   "outputs": [],
   "source": [
    "vehicle_activity = vehicle_activity[vehicle_activity['city'].isin(cities)]\n",
    "assert not set(vehicle_activity['city']) ^ cities"
   ]
  },
  {
   "cell_type": "code",
   "execution_count": 100,
   "metadata": {},
   "outputs": [
    {
     "data": {
      "text/html": [
       "<div>\n",
       "<style>\n",
       "    .dataframe thead tr:only-child th {\n",
       "        text-align: right;\n",
       "    }\n",
       "\n",
       "    .dataframe thead th {\n",
       "        text-align: left;\n",
       "    }\n",
       "\n",
       "    .dataframe tbody tr th {\n",
       "        vertical-align: top;\n",
       "    }\n",
       "</style>\n",
       "<table border=\"1\" class=\"dataframe\">\n",
       "  <thead>\n",
       "    <tr style=\"text-align: right;\">\n",
       "      <th></th>\n",
       "      <th>geohash</th>\n",
       "      <th>city</th>\n",
       "      <th>county</th>\n",
       "      <th>state</th>\n",
       "      <th>metro</th>\n",
       "      <th>average_idle_total</th>\n",
       "      <th>median_idle_total</th>\n",
       "      <th>cumulative_daily_idle_total</th>\n",
       "      <th>average_idle_car</th>\n",
       "      <th>average_idle_mpv</th>\n",
       "      <th>...</th>\n",
       "      <th>average_unique_geohashes</th>\n",
       "      <th>average_total_geohashes</th>\n",
       "      <th>circling_distribution</th>\n",
       "      <th>hourly_distribution_park</th>\n",
       "      <th>percent_car_park</th>\n",
       "      <th>percent_mpv_park</th>\n",
       "      <th>percent_ldt_park</th>\n",
       "      <th>percent_mdt_park</th>\n",
       "      <th>percent_hdt_park</th>\n",
       "      <th>percent_other_park</th>\n",
       "    </tr>\n",
       "  </thead>\n",
       "  <tbody>\n",
       "    <tr>\n",
       "      <th>21</th>\n",
       "      <td>9q5cu0z</td>\n",
       "      <td>Los Angeles</td>\n",
       "      <td>Los Angeles</td>\n",
       "      <td>California</td>\n",
       "      <td>Los Angeles-Long Beach-Anaheim, CA</td>\n",
       "      <td>7.2526</td>\n",
       "      <td>5.9167</td>\n",
       "      <td>75.0995</td>\n",
       "      <td>8.1452</td>\n",
       "      <td>8.5813</td>\n",
       "      <td>...</td>\n",
       "      <td>5.0</td>\n",
       "      <td>8.0909</td>\n",
       "      <td>{\"9q5cu28\":0.01, \"9q5cu0z\":0.1714, \"9q5cu0x\":0...</td>\n",
       "      <td>{\"00\": null, \"01\": null, \"02\": null, \"03\": nul...</td>\n",
       "      <td>0.0909</td>\n",
       "      <td>0.2727</td>\n",
       "      <td>0.3636</td>\n",
       "      <td>0.0</td>\n",
       "      <td>0.0909</td>\n",
       "      <td>0.1818</td>\n",
       "    </tr>\n",
       "    <tr>\n",
       "      <th>57</th>\n",
       "      <td>9q5cf6b</td>\n",
       "      <td>Los Angeles</td>\n",
       "      <td>Los Angeles</td>\n",
       "      <td>California</td>\n",
       "      <td>Los Angeles-Long Beach-Anaheim, CA</td>\n",
       "      <td>8.2758</td>\n",
       "      <td>7.1667</td>\n",
       "      <td>119.3317</td>\n",
       "      <td>5.5510</td>\n",
       "      <td>8.5748</td>\n",
       "      <td>...</td>\n",
       "      <td>4.0</td>\n",
       "      <td>6.0000</td>\n",
       "      <td>{\"9q5cf70\":0.1485, \"9q5cf4z\":0.113, \"9q5cf5p\":...</td>\n",
       "      <td>{\"00\": null, \"01\": null, \"02\": null, \"03\": nul...</td>\n",
       "      <td>0.2000</td>\n",
       "      <td>0.2000</td>\n",
       "      <td>0.4000</td>\n",
       "      <td>0.0</td>\n",
       "      <td>0.0000</td>\n",
       "      <td>0.2000</td>\n",
       "    </tr>\n",
       "  </tbody>\n",
       "</table>\n",
       "<p>2 rows × 39 columns</p>\n",
       "</div>"
      ],
      "text/plain": [
       "    geohash         city       county       state  \\\n",
       "21  9q5cu0z  Los Angeles  Los Angeles  California   \n",
       "57  9q5cf6b  Los Angeles  Los Angeles  California   \n",
       "\n",
       "                                 metro  average_idle_total  median_idle_total  \\\n",
       "21  Los Angeles-Long Beach-Anaheim, CA              7.2526             5.9167   \n",
       "57  Los Angeles-Long Beach-Anaheim, CA              8.2758             7.1667   \n",
       "\n",
       "    cumulative_daily_idle_total  average_idle_car  average_idle_mpv  \\\n",
       "21                      75.0995            8.1452            8.5813   \n",
       "57                     119.3317            5.5510            8.5748   \n",
       "\n",
       "           ...          average_unique_geohashes  average_total_geohashes  \\\n",
       "21         ...                               5.0                   8.0909   \n",
       "57         ...                               4.0                   6.0000   \n",
       "\n",
       "                                circling_distribution  \\\n",
       "21  {\"9q5cu28\":0.01, \"9q5cu0z\":0.1714, \"9q5cu0x\":0...   \n",
       "57  {\"9q5cf70\":0.1485, \"9q5cf4z\":0.113, \"9q5cf5p\":...   \n",
       "\n",
       "                             hourly_distribution_park  percent_car_park  \\\n",
       "21  {\"00\": null, \"01\": null, \"02\": null, \"03\": nul...            0.0909   \n",
       "57  {\"00\": null, \"01\": null, \"02\": null, \"03\": nul...            0.2000   \n",
       "\n",
       "    percent_mpv_park  percent_ldt_park  percent_mdt_park  percent_hdt_park  \\\n",
       "21            0.2727            0.3636               0.0            0.0909   \n",
       "57            0.2000            0.4000               0.0            0.0000   \n",
       "\n",
       "    percent_other_park  \n",
       "21              0.1818  \n",
       "57              0.2000  \n",
       "\n",
       "[2 rows x 39 columns]"
      ]
     },
     "metadata": {},
     "output_type": "display_data"
    },
    {
     "name": "stdout",
     "output_type": "stream",
     "text": [
      "(78439, 39)\n"
     ]
    }
   ],
   "source": [
    "display(vehicle_activity.head(2))\n",
    "print(vehicle_activity.shape)"
   ]
  },
  {
   "cell_type": "markdown",
   "metadata": {},
   "source": [
    "### Add lat / long"
   ]
  },
  {
   "cell_type": "code",
   "execution_count": 101,
   "metadata": {
    "collapsed": true
   },
   "outputs": [],
   "source": [
    "vehicle_activity['latitude'], vehicle_activity['longitude'] = list(zip(\n",
    "    *vehicle_activity['geohash'].apply(pgh.decode)))"
   ]
  },
  {
   "cell_type": "markdown",
   "metadata": {},
   "source": [
    "### Keep cities"
   ]
  },
  {
   "cell_type": "code",
   "execution_count": 35,
   "metadata": {
    "collapsed": true
   },
   "outputs": [],
   "source": [
    "cities = {'Atlanta', 'Denver', 'Houston', 'Los Angeles', 'Raleigh', 'Durham', 'Toronto'}\n",
    "\n",
    "vehicle_activity = vehicle_activity[vehicle_activity['city'].isin(cities)]\n",
    "assert not set(vehicle_activity['city']) ^ cities"
   ]
  },
  {
   "cell_type": "code",
   "execution_count": 36,
   "metadata": {},
   "outputs": [
    {
     "data": {
      "text/html": [
       "<div>\n",
       "<style>\n",
       "    .dataframe thead tr:only-child th {\n",
       "        text-align: right;\n",
       "    }\n",
       "\n",
       "    .dataframe thead th {\n",
       "        text-align: left;\n",
       "    }\n",
       "\n",
       "    .dataframe tbody tr th {\n",
       "        vertical-align: top;\n",
       "    }\n",
       "</style>\n",
       "<table border=\"1\" class=\"dataframe\">\n",
       "  <thead>\n",
       "    <tr style=\"text-align: right;\">\n",
       "      <th></th>\n",
       "      <th>geohash</th>\n",
       "      <th>city</th>\n",
       "      <th>county</th>\n",
       "      <th>state</th>\n",
       "      <th>metro</th>\n",
       "      <th>average_idle_total</th>\n",
       "      <th>median_idle_total</th>\n",
       "      <th>cumulative_daily_idle_total</th>\n",
       "      <th>average_idle_car</th>\n",
       "      <th>average_idle_mpv</th>\n",
       "      <th>...</th>\n",
       "      <th>average_unique_geohashes</th>\n",
       "      <th>average_total_geohashes</th>\n",
       "      <th>circling_distribution</th>\n",
       "      <th>hourly_distribution_park</th>\n",
       "      <th>percent_car_park</th>\n",
       "      <th>percent_mpv_park</th>\n",
       "      <th>percent_ldt_park</th>\n",
       "      <th>percent_mdt_park</th>\n",
       "      <th>percent_hdt_park</th>\n",
       "      <th>percent_other_park</th>\n",
       "    </tr>\n",
       "  </thead>\n",
       "  <tbody>\n",
       "    <tr>\n",
       "      <th>21</th>\n",
       "      <td>9q5cu0z</td>\n",
       "      <td>Los Angeles</td>\n",
       "      <td>Los Angeles</td>\n",
       "      <td>California</td>\n",
       "      <td>Los Angeles-Long Beach-Anaheim, CA</td>\n",
       "      <td>7.2526</td>\n",
       "      <td>5.9167</td>\n",
       "      <td>75.0995</td>\n",
       "      <td>8.1452</td>\n",
       "      <td>8.5813</td>\n",
       "      <td>...</td>\n",
       "      <td>5.0</td>\n",
       "      <td>8.0909</td>\n",
       "      <td>{\"9q5cu28\":0.01, \"9q5cu0z\":0.1714, \"9q5cu0x\":0...</td>\n",
       "      <td>{\"00\": null, \"01\": null, \"02\": null, \"03\": nul...</td>\n",
       "      <td>0.0909</td>\n",
       "      <td>0.2727</td>\n",
       "      <td>0.3636</td>\n",
       "      <td>0.0</td>\n",
       "      <td>0.0909</td>\n",
       "      <td>0.1818</td>\n",
       "    </tr>\n",
       "    <tr>\n",
       "      <th>57</th>\n",
       "      <td>9q5cf6b</td>\n",
       "      <td>Los Angeles</td>\n",
       "      <td>Los Angeles</td>\n",
       "      <td>California</td>\n",
       "      <td>Los Angeles-Long Beach-Anaheim, CA</td>\n",
       "      <td>8.2758</td>\n",
       "      <td>7.1667</td>\n",
       "      <td>119.3317</td>\n",
       "      <td>5.5510</td>\n",
       "      <td>8.5748</td>\n",
       "      <td>...</td>\n",
       "      <td>4.0</td>\n",
       "      <td>6.0000</td>\n",
       "      <td>{\"9q5cf70\":0.1485, \"9q5cf4z\":0.113, \"9q5cf5p\":...</td>\n",
       "      <td>{\"00\": null, \"01\": null, \"02\": null, \"03\": nul...</td>\n",
       "      <td>0.2000</td>\n",
       "      <td>0.2000</td>\n",
       "      <td>0.4000</td>\n",
       "      <td>0.0</td>\n",
       "      <td>0.0000</td>\n",
       "      <td>0.2000</td>\n",
       "    </tr>\n",
       "  </tbody>\n",
       "</table>\n",
       "<p>2 rows × 39 columns</p>\n",
       "</div>"
      ],
      "text/plain": [
       "    geohash         city       county       state  \\\n",
       "21  9q5cu0z  Los Angeles  Los Angeles  California   \n",
       "57  9q5cf6b  Los Angeles  Los Angeles  California   \n",
       "\n",
       "                                 metro  average_idle_total  median_idle_total  \\\n",
       "21  Los Angeles-Long Beach-Anaheim, CA              7.2526             5.9167   \n",
       "57  Los Angeles-Long Beach-Anaheim, CA              8.2758             7.1667   \n",
       "\n",
       "    cumulative_daily_idle_total  average_idle_car  average_idle_mpv  \\\n",
       "21                      75.0995            8.1452            8.5813   \n",
       "57                     119.3317            5.5510            8.5748   \n",
       "\n",
       "           ...          average_unique_geohashes  average_total_geohashes  \\\n",
       "21         ...                               5.0                   8.0909   \n",
       "57         ...                               4.0                   6.0000   \n",
       "\n",
       "                                circling_distribution  \\\n",
       "21  {\"9q5cu28\":0.01, \"9q5cu0z\":0.1714, \"9q5cu0x\":0...   \n",
       "57  {\"9q5cf70\":0.1485, \"9q5cf4z\":0.113, \"9q5cf5p\":...   \n",
       "\n",
       "                             hourly_distribution_park  percent_car_park  \\\n",
       "21  {\"00\": null, \"01\": null, \"02\": null, \"03\": nul...            0.0909   \n",
       "57  {\"00\": null, \"01\": null, \"02\": null, \"03\": nul...            0.2000   \n",
       "\n",
       "    percent_mpv_park  percent_ldt_park  percent_mdt_park  percent_hdt_park  \\\n",
       "21            0.2727            0.3636               0.0            0.0909   \n",
       "57            0.2000            0.4000               0.0            0.0000   \n",
       "\n",
       "    percent_other_park  \n",
       "21              0.1818  \n",
       "57              0.2000  \n",
       "\n",
       "[2 rows x 39 columns]"
      ]
     },
     "metadata": {},
     "output_type": "display_data"
    },
    {
     "name": "stdout",
     "output_type": "stream",
     "text": [
      "(78439, 39)\n"
     ]
    }
   ],
   "source": [
    "display(vehicle_activity.head(2))\n",
    "print(vehicle_activity.shape)"
   ]
  },
  {
   "cell_type": "markdown",
   "metadata": {},
   "source": [
    "## `road_impediments`"
   ]
  },
  {
   "cell_type": "code",
   "execution_count": 26,
   "metadata": {
    "collapsed": true
   },
   "outputs": [],
   "source": [
    "road_impediments = pd.read_csv('../datathon_materials/road_impediments.csv.gz')"
   ]
  },
  {
   "cell_type": "code",
   "execution_count": 27,
   "metadata": {},
   "outputs": [
    {
     "data": {
      "text/html": [
       "<div>\n",
       "<style>\n",
       "    .dataframe thead tr:only-child th {\n",
       "        text-align: right;\n",
       "    }\n",
       "\n",
       "    .dataframe thead th {\n",
       "        text-align: left;\n",
       "    }\n",
       "\n",
       "    .dataframe tbody tr th {\n",
       "        vertical-align: top;\n",
       "    }\n",
       "</style>\n",
       "<table border=\"1\" class=\"dataframe\">\n",
       "  <thead>\n",
       "    <tr style=\"text-align: right;\">\n",
       "      <th></th>\n",
       "      <th>latitude</th>\n",
       "      <th>longitude</th>\n",
       "      <th>city</th>\n",
       "      <th>county</th>\n",
       "      <th>state</th>\n",
       "      <th>metro</th>\n",
       "      <th>average_acceleration</th>\n",
       "      <th>percent_vehicles_acceleration</th>\n",
       "      <th>average_monthly_vehicles</th>\n",
       "      <th>percent_car</th>\n",
       "      <th>percent_mpv</th>\n",
       "      <th>percent_ldt</th>\n",
       "      <th>percent_mdt</th>\n",
       "      <th>percent_hdt</th>\n",
       "      <th>percent_other</th>\n",
       "    </tr>\n",
       "  </thead>\n",
       "  <tbody>\n",
       "    <tr>\n",
       "      <th>0</th>\n",
       "      <td>29.78146</td>\n",
       "      <td>-96.10690</td>\n",
       "      <td>San Felipe</td>\n",
       "      <td>Austin</td>\n",
       "      <td>Texas</td>\n",
       "      <td>Houston-The Woodlands-Sugar Land, TX</td>\n",
       "      <td>1.5106</td>\n",
       "      <td>0.0132</td>\n",
       "      <td>177</td>\n",
       "      <td>0.0000</td>\n",
       "      <td>0.0791</td>\n",
       "      <td>0.2326</td>\n",
       "      <td>0.1349</td>\n",
       "      <td>0.0977</td>\n",
       "      <td>0.4557</td>\n",
       "    </tr>\n",
       "    <tr>\n",
       "      <th>1</th>\n",
       "      <td>29.78425</td>\n",
       "      <td>-96.21537</td>\n",
       "      <td>NaN</td>\n",
       "      <td>Austin</td>\n",
       "      <td>Texas</td>\n",
       "      <td>Houston-The Woodlands-Sugar Land, TX</td>\n",
       "      <td>0.8030</td>\n",
       "      <td>0.0139</td>\n",
       "      <td>24</td>\n",
       "      <td>0.0256</td>\n",
       "      <td>0.0769</td>\n",
       "      <td>0.3590</td>\n",
       "      <td>0.0513</td>\n",
       "      <td>0.3590</td>\n",
       "      <td>0.1282</td>\n",
       "    </tr>\n",
       "  </tbody>\n",
       "</table>\n",
       "</div>"
      ],
      "text/plain": [
       "   latitude  longitude        city  county  state  \\\n",
       "0  29.78146  -96.10690  San Felipe  Austin  Texas   \n",
       "1  29.78425  -96.21537         NaN  Austin  Texas   \n",
       "\n",
       "                                  metro  average_acceleration  \\\n",
       "0  Houston-The Woodlands-Sugar Land, TX                1.5106   \n",
       "1  Houston-The Woodlands-Sugar Land, TX                0.8030   \n",
       "\n",
       "   percent_vehicles_acceleration  average_monthly_vehicles  percent_car  \\\n",
       "0                         0.0132                       177       0.0000   \n",
       "1                         0.0139                        24       0.0256   \n",
       "\n",
       "   percent_mpv  percent_ldt  percent_mdt  percent_hdt  percent_other  \n",
       "0       0.0791       0.2326       0.1349       0.0977         0.4557  \n",
       "1       0.0769       0.3590       0.0513       0.3590         0.1282  "
      ]
     },
     "metadata": {},
     "output_type": "display_data"
    },
    {
     "name": "stdout",
     "output_type": "stream",
     "text": [
      "(11009591, 15)\n"
     ]
    }
   ],
   "source": [
    "display(road_impediments.head(2))\n",
    "print(road_impediments.shape)"
   ]
  },
  {
   "cell_type": "markdown",
   "metadata": {},
   "source": [
    "### Keep cities"
   ]
  },
  {
   "cell_type": "code",
   "execution_count": 28,
   "metadata": {
    "collapsed": true
   },
   "outputs": [],
   "source": [
    "# Keep only five cities\n",
    "cities = {'Atlanta', 'Denver', 'Houston', 'Los Angeles', 'Raleigh', 'Durham', 'Toronto'}\n",
    "\n",
    "road_impediments = road_impediments[road_impediments['city'].isin(cities)]\n",
    "assert not set(road_impediments['city']) ^ cities"
   ]
  },
  {
   "cell_type": "code",
   "execution_count": 29,
   "metadata": {},
   "outputs": [
    {
     "data": {
      "text/html": [
       "<div>\n",
       "<style>\n",
       "    .dataframe thead tr:only-child th {\n",
       "        text-align: right;\n",
       "    }\n",
       "\n",
       "    .dataframe thead th {\n",
       "        text-align: left;\n",
       "    }\n",
       "\n",
       "    .dataframe tbody tr th {\n",
       "        vertical-align: top;\n",
       "    }\n",
       "</style>\n",
       "<table border=\"1\" class=\"dataframe\">\n",
       "  <thead>\n",
       "    <tr style=\"text-align: right;\">\n",
       "      <th></th>\n",
       "      <th>latitude</th>\n",
       "      <th>longitude</th>\n",
       "      <th>city</th>\n",
       "      <th>county</th>\n",
       "      <th>state</th>\n",
       "      <th>metro</th>\n",
       "      <th>average_acceleration</th>\n",
       "      <th>percent_vehicles_acceleration</th>\n",
       "      <th>average_monthly_vehicles</th>\n",
       "      <th>percent_car</th>\n",
       "      <th>percent_mpv</th>\n",
       "      <th>percent_ldt</th>\n",
       "      <th>percent_mdt</th>\n",
       "      <th>percent_hdt</th>\n",
       "      <th>percent_other</th>\n",
       "    </tr>\n",
       "  </thead>\n",
       "  <tbody>\n",
       "    <tr>\n",
       "      <th>12820</th>\n",
       "      <td>30.03159</td>\n",
       "      <td>-95.25556</td>\n",
       "      <td>Houston</td>\n",
       "      <td>Harris</td>\n",
       "      <td>Texas</td>\n",
       "      <td>Houston-The Woodlands-Sugar Land, TX</td>\n",
       "      <td>0.2273</td>\n",
       "      <td>0.1935</td>\n",
       "      <td>31</td>\n",
       "      <td>0.0784</td>\n",
       "      <td>0.0588</td>\n",
       "      <td>0.0588</td>\n",
       "      <td>0.2157</td>\n",
       "      <td>0.4902</td>\n",
       "      <td>0.0981</td>\n",
       "    </tr>\n",
       "    <tr>\n",
       "      <th>12821</th>\n",
       "      <td>29.87077</td>\n",
       "      <td>-95.44213</td>\n",
       "      <td>Houston</td>\n",
       "      <td>Harris</td>\n",
       "      <td>Texas</td>\n",
       "      <td>Houston-The Woodlands-Sugar Land, TX</td>\n",
       "      <td>0.7260</td>\n",
       "      <td>0.0033</td>\n",
       "      <td>499</td>\n",
       "      <td>0.0605</td>\n",
       "      <td>0.0782</td>\n",
       "      <td>0.1122</td>\n",
       "      <td>0.1223</td>\n",
       "      <td>0.3354</td>\n",
       "      <td>0.2914</td>\n",
       "    </tr>\n",
       "  </tbody>\n",
       "</table>\n",
       "</div>"
      ],
      "text/plain": [
       "       latitude  longitude     city  county  state  \\\n",
       "12820  30.03159  -95.25556  Houston  Harris  Texas   \n",
       "12821  29.87077  -95.44213  Houston  Harris  Texas   \n",
       "\n",
       "                                      metro  average_acceleration  \\\n",
       "12820  Houston-The Woodlands-Sugar Land, TX                0.2273   \n",
       "12821  Houston-The Woodlands-Sugar Land, TX                0.7260   \n",
       "\n",
       "       percent_vehicles_acceleration  average_monthly_vehicles  percent_car  \\\n",
       "12820                         0.1935                        31       0.0784   \n",
       "12821                         0.0033                       499       0.0605   \n",
       "\n",
       "       percent_mpv  percent_ldt  percent_mdt  percent_hdt  percent_other  \n",
       "12820       0.0588       0.0588       0.2157       0.4902         0.0981  \n",
       "12821       0.0782       0.1122       0.1223       0.3354         0.2914  "
      ]
     },
     "metadata": {},
     "output_type": "display_data"
    },
    {
     "name": "stdout",
     "output_type": "stream",
     "text": [
      "(1865411, 15)\n"
     ]
    }
   ],
   "source": [
    "display(road_impediments.head(2))\n",
    "print(road_impediments.shape)"
   ]
  },
  {
   "cell_type": "markdown",
   "metadata": {},
   "source": [
    "### Add geohash"
   ]
  },
  {
   "cell_type": "code",
   "execution_count": 30,
   "metadata": {
    "collapsed": true
   },
   "outputs": [],
   "source": [
    "# Add geohash tag\n",
    "road_impediments['geohash'] = (\n",
    "    road_impediments[['latitude', 'longitude']]\n",
    "    .apply(lambda s: pgh.encode(s.latitude, s.longitude, 7), axis=1)\n",
    ")"
   ]
  },
  {
   "cell_type": "markdown",
   "metadata": {},
   "source": [
    "## `cell_coverage_dark_spots`"
   ]
  },
  {
   "cell_type": "code",
   "execution_count": 179,
   "metadata": {
    "collapsed": true
   },
   "outputs": [],
   "source": [
    "cell_coverage_dark_spots = pd.read_csv('../datathon_materials/cell_coverage_dark_spots.csv')"
   ]
  },
  {
   "cell_type": "code",
   "execution_count": 180,
   "metadata": {},
   "outputs": [
    {
     "data": {
      "text/html": [
       "<div>\n",
       "<style>\n",
       "    .dataframe thead tr:only-child th {\n",
       "        text-align: right;\n",
       "    }\n",
       "\n",
       "    .dataframe thead th {\n",
       "        text-align: left;\n",
       "    }\n",
       "\n",
       "    .dataframe tbody tr th {\n",
       "        vertical-align: top;\n",
       "    }\n",
       "</style>\n",
       "<table border=\"1\" class=\"dataframe\">\n",
       "  <thead>\n",
       "    <tr style=\"text-align: right;\">\n",
       "      <th></th>\n",
       "      <th>geohash</th>\n",
       "      <th>latitude</th>\n",
       "      <th>longitude</th>\n",
       "      <th>city</th>\n",
       "      <th>state</th>\n",
       "      <th>metro</th>\n",
       "      <th>average_drops_per_month</th>\n",
       "      <th>percent_affected</th>\n",
       "      <th>hourly_distribution</th>\n",
       "    </tr>\n",
       "  </thead>\n",
       "  <tbody>\n",
       "    <tr>\n",
       "      <th>0</th>\n",
       "      <td>dnh7qpd</td>\n",
       "      <td>34.36370</td>\n",
       "      <td>-83.75655</td>\n",
       "      <td>Lula</td>\n",
       "      <td>Georgia</td>\n",
       "      <td>Atlanta</td>\n",
       "      <td>0.6413</td>\n",
       "      <td>0.0909</td>\n",
       "      <td>{\"00\": 0, \"01\": 0, \"02\": 0.9365, \"03\": 0, \"04\"...</td>\n",
       "    </tr>\n",
       "    <tr>\n",
       "      <th>1</th>\n",
       "      <td>djupuj4</td>\n",
       "      <td>33.73406</td>\n",
       "      <td>-84.19613</td>\n",
       "      <td>Redan</td>\n",
       "      <td>Georgia</td>\n",
       "      <td>Atlanta</td>\n",
       "      <td>0.5601</td>\n",
       "      <td>0.4000</td>\n",
       "      <td>{\"00\": 0.1702, \"01\": 0.5385, \"02\": 0.6154, \"03...</td>\n",
       "    </tr>\n",
       "  </tbody>\n",
       "</table>\n",
       "</div>"
      ],
      "text/plain": [
       "   geohash  latitude  longitude   city    state    metro  \\\n",
       "0  dnh7qpd  34.36370  -83.75655   Lula  Georgia  Atlanta   \n",
       "1  djupuj4  33.73406  -84.19613  Redan  Georgia  Atlanta   \n",
       "\n",
       "   average_drops_per_month  percent_affected  \\\n",
       "0                   0.6413            0.0909   \n",
       "1                   0.5601            0.4000   \n",
       "\n",
       "                                 hourly_distribution  \n",
       "0  {\"00\": 0, \"01\": 0, \"02\": 0.9365, \"03\": 0, \"04\"...  \n",
       "1  {\"00\": 0.1702, \"01\": 0.5385, \"02\": 0.6154, \"03...  "
      ]
     },
     "metadata": {},
     "output_type": "display_data"
    },
    {
     "name": "stdout",
     "output_type": "stream",
     "text": [
      "(9945, 9)\n"
     ]
    }
   ],
   "source": [
    "display(cell_coverage_dark_spots.head(2))\n",
    "print(cell_coverage_dark_spots.shape)"
   ]
  },
  {
   "cell_type": "code",
   "execution_count": 181,
   "metadata": {},
   "outputs": [],
   "source": [
    "# cell_coverage_dark_spots = cell_coverage_dark_spots[cell_coverage_dark_spots['city'].isin(CITIES)]\n",
    "# assert not set(cell_coverage_dark_spots['city']) ^ CITIES, CITIES - set(cell_coverage_dark_spots['city'])"
   ]
  },
  {
   "cell_type": "markdown",
   "metadata": {},
   "source": [
    "### Closest distance"
   ]
  },
  {
   "cell_type": "code",
   "execution_count": 190,
   "metadata": {},
   "outputs": [],
   "source": [
    "(vehicle_activity['cell_coverage_dark_spot_k1'],\n",
    " vehicle_activity['cell_coverage_dark_spot_k3'],\n",
    " vehicle_activity['cell_coverage_dark_spot_k5']) = list(zip(*[\n",
    "    avg_min_distance(origin, cell_coverage_dark_spots[['latitude', 'longitude']].values, [1,3,5])\n",
    "    for origin in vehicle_activity[['latitude', 'longitude']].values]\n",
    "))"
   ]
  },
  {
   "cell_type": "markdown",
   "metadata": {},
   "source": [
    "## `fuel_station_metrics`"
   ]
  },
  {
   "cell_type": "code",
   "execution_count": 95,
   "metadata": {},
   "outputs": [],
   "source": [
    "fuel_station_metrics = pd.read_csv('../datathon_materials/fuel_station_metrics.csv', encoding='cp1252')"
   ]
  },
  {
   "cell_type": "code",
   "execution_count": 96,
   "metadata": {},
   "outputs": [
    {
     "data": {
      "text/html": [
       "<div>\n",
       "<style>\n",
       "    .dataframe thead tr:only-child th {\n",
       "        text-align: right;\n",
       "    }\n",
       "\n",
       "    .dataframe thead th {\n",
       "        text-align: left;\n",
       "    }\n",
       "\n",
       "    .dataframe tbody tr th {\n",
       "        vertical-align: top;\n",
       "    }\n",
       "</style>\n",
       "<table border=\"1\" class=\"dataframe\">\n",
       "  <thead>\n",
       "    <tr style=\"text-align: right;\">\n",
       "      <th></th>\n",
       "      <th>geohash</th>\n",
       "      <th>latitude</th>\n",
       "      <th>longitude</th>\n",
       "      <th>city</th>\n",
       "      <th>county</th>\n",
       "      <th>state</th>\n",
       "      <th>metro</th>\n",
       "      <th>has_gas</th>\n",
       "      <th>has_diesel</th>\n",
       "      <th>hourly_distribution</th>\n",
       "      <th>percent_car</th>\n",
       "      <th>percent_mpv</th>\n",
       "      <th>percent_ldt</th>\n",
       "      <th>percent_mdt</th>\n",
       "      <th>percent_hdt</th>\n",
       "      <th>percent_other</th>\n",
       "      <th>popularity_score</th>\n",
       "    </tr>\n",
       "  </thead>\n",
       "  <tbody>\n",
       "    <tr>\n",
       "      <th>0</th>\n",
       "      <td>dn5cc4g</td>\n",
       "      <td>34.07405</td>\n",
       "      <td>-84.67742</td>\n",
       "      <td>Acworth</td>\n",
       "      <td>Cobb</td>\n",
       "      <td>Georgia</td>\n",
       "      <td>Atlanta</td>\n",
       "      <td>1</td>\n",
       "      <td>1</td>\n",
       "      <td>{\"00\": null, \"01\": null, \"02\": null, \"03\": nul...</td>\n",
       "      <td>0.0000</td>\n",
       "      <td>0.4</td>\n",
       "      <td>0.0000</td>\n",
       "      <td>0.2000</td>\n",
       "      <td>0.2</td>\n",
       "      <td>0.2000</td>\n",
       "      <td>2</td>\n",
       "    </tr>\n",
       "    <tr>\n",
       "      <th>1</th>\n",
       "      <td>dn5cd3h</td>\n",
       "      <td>34.01985</td>\n",
       "      <td>-84.62184</td>\n",
       "      <td>Kennesaw</td>\n",
       "      <td>Cobb</td>\n",
       "      <td>Georgia</td>\n",
       "      <td>Atlanta</td>\n",
       "      <td>1</td>\n",
       "      <td>1</td>\n",
       "      <td>{\"00\": null, \"01\": null, \"02\": 0.0172, \"03\": n...</td>\n",
       "      <td>0.3621</td>\n",
       "      <td>0.0</td>\n",
       "      <td>0.3276</td>\n",
       "      <td>0.0345</td>\n",
       "      <td>0.0</td>\n",
       "      <td>0.2759</td>\n",
       "      <td>4</td>\n",
       "    </tr>\n",
       "  </tbody>\n",
       "</table>\n",
       "</div>"
      ],
      "text/plain": [
       "   geohash  latitude  longitude      city county    state    metro  has_gas  \\\n",
       "0  dn5cc4g  34.07405  -84.67742   Acworth   Cobb  Georgia  Atlanta        1   \n",
       "1  dn5cd3h  34.01985  -84.62184  Kennesaw   Cobb  Georgia  Atlanta        1   \n",
       "\n",
       "   has_diesel                                hourly_distribution  percent_car  \\\n",
       "0           1  {\"00\": null, \"01\": null, \"02\": null, \"03\": nul...       0.0000   \n",
       "1           1  {\"00\": null, \"01\": null, \"02\": 0.0172, \"03\": n...       0.3621   \n",
       "\n",
       "   percent_mpv  percent_ldt  percent_mdt  percent_hdt  percent_other  \\\n",
       "0          0.4       0.0000       0.2000          0.2         0.2000   \n",
       "1          0.0       0.3276       0.0345          0.0         0.2759   \n",
       "\n",
       "   popularity_score  \n",
       "0                 2  \n",
       "1                 4  "
      ]
     },
     "metadata": {},
     "output_type": "display_data"
    },
    {
     "name": "stdout",
     "output_type": "stream",
     "text": [
      "(1912, 17)\n"
     ]
    }
   ],
   "source": [
    "display(fuel_station_metrics.head(2))\n",
    "print(fuel_station_metrics.shape)"
   ]
  },
  {
   "cell_type": "code",
   "execution_count": 97,
   "metadata": {
    "collapsed": true
   },
   "outputs": [],
   "source": [
    "fuel_station_metrics = fuel_station_metrics[fuel_station_metrics['city'].isin(CITIES)]\n",
    "assert not set(fuel_station_metrics['city']) ^ CITIES, CITIES - set(fuel_station_metrics['city'])"
   ]
  },
  {
   "cell_type": "markdown",
   "metadata": {},
   "source": [
    "### Closest distances"
   ]
  },
  {
   "cell_type": "code",
   "execution_count": 105,
   "metadata": {
    "collapsed": true
   },
   "outputs": [],
   "source": [
    "fuel_station_metrics_distances = fuel_station_metrics[['latitude', 'longitude']].values"
   ]
  },
  {
   "cell_type": "code",
   "execution_count": 174,
   "metadata": {
    "run_control": {
     "marked": false
    }
   },
   "outputs": [],
   "source": [
    "vehicle_activity['closest_fuel_station_k1'] = [\n",
    "    avg_min_distance(origin, fuel_station_metrics_distances, 1)\n",
    "    for origin in vehicle_activity[['latitude', 'longitude']].values\n",
    "]"
   ]
  },
  {
   "cell_type": "code",
   "execution_count": 176,
   "metadata": {
    "collapsed": true
   },
   "outputs": [],
   "source": [
    "vehicle_activity['closest_fuel_station_k3'] = [\n",
    "    avg_min_distance(origin, fuel_station_metrics_distances, 3)\n",
    "    for origin in vehicle_activity[['latitude', 'longitude']].values\n",
    "]"
   ]
  },
  {
   "cell_type": "code",
   "execution_count": 177,
   "metadata": {
    "collapsed": true
   },
   "outputs": [],
   "source": [
    "vehicle_activity['closest_fuel_station_k5'] = [\n",
    "    avg_min_distance(origin, fuel_station_metrics_distances, 5)\n",
    "    for origin in vehicle_activity[['latitude', 'longitude']].values\n",
    "]"
   ]
  },
  {
   "cell_type": "markdown",
   "metadata": {},
   "source": [
    "## `public_service_locations`"
   ]
  },
  {
   "cell_type": "code",
   "execution_count": 238,
   "metadata": {
    "collapsed": true
   },
   "outputs": [],
   "source": [
    "public_services_locations = pd.read_csv('../datathon_materials/public_services_locations.csv')"
   ]
  },
  {
   "cell_type": "code",
   "execution_count": 239,
   "metadata": {
    "collapsed": true
   },
   "outputs": [],
   "source": [
    "public_services_locations['city'] = public_services_locations['city'].str.title()"
   ]
  },
  {
   "cell_type": "code",
   "execution_count": 240,
   "metadata": {},
   "outputs": [],
   "source": [
    "public_services_locations = public_services_locations[public_services_locations['city'].isin(CITIES)]\n",
    "assert not set(public_services_locations['city']) ^ CITIES, CITIES - set(public_services_locations['city'])"
   ]
  },
  {
   "cell_type": "code",
   "execution_count": 241,
   "metadata": {},
   "outputs": [],
   "source": [
    "cell_structure = public_services_locations[public_services_locations['cell_structure_type'].notnull()]"
   ]
  },
  {
   "cell_type": "code",
   "execution_count": 242,
   "metadata": {
    "collapsed": true
   },
   "outputs": [],
   "source": [
    "college = public_services_locations[public_services_locations['college_population'].notnull()]"
   ]
  },
  {
   "cell_type": "code",
   "execution_count": 243,
   "metadata": {
    "collapsed": true
   },
   "outputs": [],
   "source": [
    "hospital = public_services_locations[public_services_locations['hospital_beds'].notnull()]"
   ]
  },
  {
   "cell_type": "code",
   "execution_count": 244,
   "metadata": {
    "collapsed": true
   },
   "outputs": [],
   "source": [
    "sports_venue = public_services_locations[public_services_locations['sports_venue_size'].notnull()]"
   ]
  },
  {
   "cell_type": "code",
   "execution_count": 245,
   "metadata": {
    "collapsed": true
   },
   "outputs": [],
   "source": [
    "church = public_services_locations[public_services_locations['worship_members'].notnull()]"
   ]
  },
  {
   "cell_type": "code",
   "execution_count": 247,
   "metadata": {},
   "outputs": [],
   "source": [
    "school = public_services_locations[public_services_locations['schools_students'].notnull()]"
   ]
  },
  {
   "cell_type": "code",
   "execution_count": 248,
   "metadata": {
    "collapsed": true
   },
   "outputs": [],
   "source": [
    "datasets = {\n",
    "    'public_services_locations': public_services_locations,\n",
    "    'cell_structure': cell_structure,\n",
    "    'college': college,\n",
    "    'hospital': hospital,\n",
    "    'sports_venue': sports_venue,\n",
    "    'church': church,\n",
    "    'school': school\n",
    "}"
   ]
  },
  {
   "cell_type": "code",
   "execution_count": 249,
   "metadata": {},
   "outputs": [
    {
     "name": "stdout",
     "output_type": "stream",
     "text": [
      "public_services_locations\n",
      "cell_structure\n",
      "college\n",
      "hospital\n",
      "sports_venue\n",
      "church\n",
      "school\n"
     ]
    }
   ],
   "source": [
    "for dataset, df in datasets.items():\n",
    "    print(dataset)\n",
    "    (vehicle_activity[f'{dataset}_k1'],\n",
    "     vehicle_activity[f'{dataset}_k3'],\n",
    "     vehicle_activity[f'{dataset}_k5']) = list(zip(*[\n",
    "        avg_min_distance(origin, df[['latitude', 'longitude']].values, [1,3,5])\n",
    "        for origin in vehicle_activity[['latitude', 'longitude']].values]\n",
    "    ))"
   ]
  },
  {
   "cell_type": "markdown",
   "metadata": {},
   "source": [
    "## `heavy_duty_parking`"
   ]
  },
  {
   "cell_type": "code",
   "execution_count": 202,
   "metadata": {
    "collapsed": true
   },
   "outputs": [],
   "source": [
    "heavy_duty_parking = pd.read_csv('../datathon_materials/heavy_duty_parking.csv')"
   ]
  },
  {
   "cell_type": "code",
   "execution_count": 203,
   "metadata": {},
   "outputs": [],
   "source": [
    "CITIES = {'Atlanta', 'Denver', 'Durham', 'Houston', 'Los Angeles', 'Raleigh', 'Toronto'}"
   ]
  },
  {
   "cell_type": "code",
   "execution_count": 204,
   "metadata": {},
   "outputs": [],
   "source": [
    "# heavy_duty_parking = heavy_duty_parking[heavy_duty_parking['city'].isin(cities)]\n",
    "# assert not set(heavy_duty_parking['city']) ^ cities, cities - set(heavy_duty_parking['city'])"
   ]
  },
  {
   "cell_type": "code",
   "execution_count": 205,
   "metadata": {
    "collapsed": true
   },
   "outputs": [],
   "source": [
    "(vehicle_activity['heavy_duty_parking_k1'],\n",
    " vehicle_activity['heavy_duty_parking_k3'],\n",
    " vehicle_activity['heavy_duty_parking_k5']) = list(zip(*[\n",
    "    avg_min_distance(origin, heavy_duty_parking[['latitude', 'longitude']].values, [1,3,5])\n",
    "    for origin in vehicle_activity[['latitude', 'longitude']].values]\n",
    "))"
   ]
  },
  {
   "cell_type": "markdown",
   "metadata": {},
   "source": [
    "## `service_center_metrics`"
   ]
  },
  {
   "cell_type": "code",
   "execution_count": 210,
   "metadata": {},
   "outputs": [],
   "source": [
    "service_center_metrics = pd.read_csv('../datathon_materials/service_centre_metrics.csv')"
   ]
  },
  {
   "cell_type": "code",
   "execution_count": 211,
   "metadata": {},
   "outputs": [],
   "source": [
    "# service_center_metrics = service_center_metrics[service_center_metrics['city'].isin(cities)]\n",
    "# assert not set(service_center_metrics['city']) ^ cities, cities - set(service_center_metrics['city'])"
   ]
  },
  {
   "cell_type": "code",
   "execution_count": 212,
   "metadata": {
    "collapsed": true
   },
   "outputs": [],
   "source": [
    "(vehicle_activity['service_center_metrics_k1'],\n",
    " vehicle_activity['service_center_metrics_k3'],\n",
    " vehicle_activity['service_center_metrics_k5']) = list(zip(*[\n",
    "    avg_min_distance(origin, service_center_metrics[['latitude', 'longitude']].values, [1,3,5])\n",
    "    for origin in vehicle_activity[['latitude', 'longitude']].values]\n",
    "))"
   ]
  },
  {
   "cell_type": "markdown",
   "metadata": {},
   "source": [
    "# Process data"
   ]
  },
  {
   "cell_type": "markdown",
   "metadata": {},
   "source": [
    "## Save road impediments grouped by geohash"
   ]
  },
  {
   "cell_type": "code",
   "execution_count": 70,
   "metadata": {
    "collapsed": true
   },
   "outputs": [],
   "source": [
    "columns = [\n",
    "    'average_acceleration', 'percent_vehicles_acceleration', 'average_monthly_vehicles', \n",
    "    'percent_car', 'percent_mpv', 'percent_ldt', 'percent_mdt', 'percent_hdt', 'percent_other',\n",
    "]\n",
    "\n",
    "road_impediments_gp = (\n",
    "    road_impediments\n",
    "    .groupby('geohash', as_index=False)\n",
    "    [columns]\n",
    "    .agg(['min', 'max', 'mean', 'median'])\n",
    ")"
   ]
  },
  {
   "cell_type": "code",
   "execution_count": 71,
   "metadata": {},
   "outputs": [
    {
     "data": {
      "text/html": [
       "<div>\n",
       "<style>\n",
       "    .dataframe thead tr:only-child th {\n",
       "        text-align: right;\n",
       "    }\n",
       "\n",
       "    .dataframe thead th {\n",
       "        text-align: left;\n",
       "    }\n",
       "\n",
       "    .dataframe tbody tr th {\n",
       "        vertical-align: top;\n",
       "    }\n",
       "</style>\n",
       "<table border=\"1\" class=\"dataframe\">\n",
       "  <thead>\n",
       "    <tr>\n",
       "      <th></th>\n",
       "      <th colspan=\"4\" halign=\"left\">average_acceleration</th>\n",
       "      <th colspan=\"4\" halign=\"left\">percent_vehicles_acceleration</th>\n",
       "      <th colspan=\"2\" halign=\"left\">average_monthly_vehicles</th>\n",
       "      <th>...</th>\n",
       "      <th colspan=\"2\" halign=\"left\">percent_mdt</th>\n",
       "      <th colspan=\"4\" halign=\"left\">percent_hdt</th>\n",
       "      <th colspan=\"4\" halign=\"left\">percent_other</th>\n",
       "    </tr>\n",
       "    <tr>\n",
       "      <th></th>\n",
       "      <th>min</th>\n",
       "      <th>max</th>\n",
       "      <th>mean</th>\n",
       "      <th>median</th>\n",
       "      <th>min</th>\n",
       "      <th>max</th>\n",
       "      <th>mean</th>\n",
       "      <th>median</th>\n",
       "      <th>min</th>\n",
       "      <th>max</th>\n",
       "      <th>...</th>\n",
       "      <th>mean</th>\n",
       "      <th>median</th>\n",
       "      <th>min</th>\n",
       "      <th>max</th>\n",
       "      <th>mean</th>\n",
       "      <th>median</th>\n",
       "      <th>min</th>\n",
       "      <th>max</th>\n",
       "      <th>mean</th>\n",
       "      <th>median</th>\n",
       "    </tr>\n",
       "    <tr>\n",
       "      <th>geohash</th>\n",
       "      <th></th>\n",
       "      <th></th>\n",
       "      <th></th>\n",
       "      <th></th>\n",
       "      <th></th>\n",
       "      <th></th>\n",
       "      <th></th>\n",
       "      <th></th>\n",
       "      <th></th>\n",
       "      <th></th>\n",
       "      <th></th>\n",
       "      <th></th>\n",
       "      <th></th>\n",
       "      <th></th>\n",
       "      <th></th>\n",
       "      <th></th>\n",
       "      <th></th>\n",
       "      <th></th>\n",
       "      <th></th>\n",
       "      <th></th>\n",
       "      <th></th>\n",
       "    </tr>\n",
       "  </thead>\n",
       "  <tbody>\n",
       "    <tr>\n",
       "      <th>9mgzg6w</th>\n",
       "      <td>0.0</td>\n",
       "      <td>0.5535</td>\n",
       "      <td>0.202611</td>\n",
       "      <td>0.0</td>\n",
       "      <td>0.0</td>\n",
       "      <td>0.5000</td>\n",
       "      <td>0.142211</td>\n",
       "      <td>0.0</td>\n",
       "      <td>10</td>\n",
       "      <td>16</td>\n",
       "      <td>...</td>\n",
       "      <td>0.172044</td>\n",
       "      <td>0.1500</td>\n",
       "      <td>0.2308</td>\n",
       "      <td>0.4667</td>\n",
       "      <td>0.367478</td>\n",
       "      <td>0.3571</td>\n",
       "      <td>0.1429</td>\n",
       "      <td>0.3889</td>\n",
       "      <td>0.266822</td>\n",
       "      <td>0.2500</td>\n",
       "    </tr>\n",
       "    <tr>\n",
       "      <th>9mgzg6x</th>\n",
       "      <td>0.0</td>\n",
       "      <td>0.1830</td>\n",
       "      <td>0.026143</td>\n",
       "      <td>0.0</td>\n",
       "      <td>0.0</td>\n",
       "      <td>0.0213</td>\n",
       "      <td>0.003043</td>\n",
       "      <td>0.0</td>\n",
       "      <td>10</td>\n",
       "      <td>17</td>\n",
       "      <td>...</td>\n",
       "      <td>0.193871</td>\n",
       "      <td>0.1905</td>\n",
       "      <td>0.2308</td>\n",
       "      <td>0.3571</td>\n",
       "      <td>0.317643</td>\n",
       "      <td>0.3333</td>\n",
       "      <td>0.1429</td>\n",
       "      <td>0.2500</td>\n",
       "      <td>0.219471</td>\n",
       "      <td>0.2307</td>\n",
       "    </tr>\n",
       "  </tbody>\n",
       "</table>\n",
       "<p>2 rows × 36 columns</p>\n",
       "</div>"
      ],
      "text/plain": [
       "        average_acceleration                           \\\n",
       "                         min     max      mean median   \n",
       "geohash                                                 \n",
       "9mgzg6w                  0.0  0.5535  0.202611    0.0   \n",
       "9mgzg6x                  0.0  0.1830  0.026143    0.0   \n",
       "\n",
       "        percent_vehicles_acceleration                           \\\n",
       "                                  min     max      mean median   \n",
       "geohash                                                          \n",
       "9mgzg6w                           0.0  0.5000  0.142211    0.0   \n",
       "9mgzg6x                           0.0  0.0213  0.003043    0.0   \n",
       "\n",
       "        average_monthly_vehicles       ...   percent_mdt         percent_hdt  \\\n",
       "                             min max   ...          mean  median         min   \n",
       "geohash                                ...                                     \n",
       "9mgzg6w                       10  16   ...      0.172044  0.1500      0.2308   \n",
       "9mgzg6x                       10  17   ...      0.193871  0.1905      0.2308   \n",
       "\n",
       "                                  percent_other                            \n",
       "            max      mean  median           min     max      mean  median  \n",
       "geohash                                                                    \n",
       "9mgzg6w  0.4667  0.367478  0.3571        0.1429  0.3889  0.266822  0.2500  \n",
       "9mgzg6x  0.3571  0.317643  0.3333        0.1429  0.2500  0.219471  0.2307  \n",
       "\n",
       "[2 rows x 36 columns]"
      ]
     },
     "metadata": {},
     "output_type": "display_data"
    },
    {
     "name": "stdout",
     "output_type": "stream",
     "text": [
      "153396\n"
     ]
    }
   ],
   "source": [
    "display(road_impediments_gp.head(2))\n",
    "print(road_impediments_gp.shape[0])"
   ]
  },
  {
   "cell_type": "code",
   "execution_count": 72,
   "metadata": {
    "collapsed": true
   },
   "outputs": [],
   "source": [
    "road_impediments_gp.columns = ['-'.join(c) for c in road_impediments_gp.columns]"
   ]
  },
  {
   "cell_type": "code",
   "execution_count": 73,
   "metadata": {
    "collapsed": true
   },
   "outputs": [],
   "source": [
    "road_impediments_gp = road_impediments_gp.reset_index()"
   ]
  },
  {
   "cell_type": "code",
   "execution_count": 74,
   "metadata": {},
   "outputs": [
    {
     "data": {
      "text/html": [
       "<div>\n",
       "<style>\n",
       "    .dataframe thead tr:only-child th {\n",
       "        text-align: right;\n",
       "    }\n",
       "\n",
       "    .dataframe thead th {\n",
       "        text-align: left;\n",
       "    }\n",
       "\n",
       "    .dataframe tbody tr th {\n",
       "        vertical-align: top;\n",
       "    }\n",
       "</style>\n",
       "<table border=\"1\" class=\"dataframe\">\n",
       "  <thead>\n",
       "    <tr style=\"text-align: right;\">\n",
       "      <th></th>\n",
       "      <th>geohash</th>\n",
       "      <th>average_acceleration-min</th>\n",
       "      <th>average_acceleration-max</th>\n",
       "      <th>average_acceleration-mean</th>\n",
       "      <th>average_acceleration-median</th>\n",
       "      <th>percent_vehicles_acceleration-min</th>\n",
       "      <th>percent_vehicles_acceleration-max</th>\n",
       "      <th>percent_vehicles_acceleration-mean</th>\n",
       "      <th>percent_vehicles_acceleration-median</th>\n",
       "      <th>average_monthly_vehicles-min</th>\n",
       "      <th>...</th>\n",
       "      <th>percent_mdt-mean</th>\n",
       "      <th>percent_mdt-median</th>\n",
       "      <th>percent_hdt-min</th>\n",
       "      <th>percent_hdt-max</th>\n",
       "      <th>percent_hdt-mean</th>\n",
       "      <th>percent_hdt-median</th>\n",
       "      <th>percent_other-min</th>\n",
       "      <th>percent_other-max</th>\n",
       "      <th>percent_other-mean</th>\n",
       "      <th>percent_other-median</th>\n",
       "    </tr>\n",
       "  </thead>\n",
       "  <tbody>\n",
       "    <tr>\n",
       "      <th>0</th>\n",
       "      <td>9mgzg6w</td>\n",
       "      <td>0.0</td>\n",
       "      <td>0.5535</td>\n",
       "      <td>0.202611</td>\n",
       "      <td>0.0</td>\n",
       "      <td>0.0</td>\n",
       "      <td>0.5000</td>\n",
       "      <td>0.142211</td>\n",
       "      <td>0.0</td>\n",
       "      <td>10</td>\n",
       "      <td>...</td>\n",
       "      <td>0.172044</td>\n",
       "      <td>0.1500</td>\n",
       "      <td>0.2308</td>\n",
       "      <td>0.4667</td>\n",
       "      <td>0.367478</td>\n",
       "      <td>0.3571</td>\n",
       "      <td>0.1429</td>\n",
       "      <td>0.3889</td>\n",
       "      <td>0.266822</td>\n",
       "      <td>0.2500</td>\n",
       "    </tr>\n",
       "    <tr>\n",
       "      <th>1</th>\n",
       "      <td>9mgzg6x</td>\n",
       "      <td>0.0</td>\n",
       "      <td>0.1830</td>\n",
       "      <td>0.026143</td>\n",
       "      <td>0.0</td>\n",
       "      <td>0.0</td>\n",
       "      <td>0.0213</td>\n",
       "      <td>0.003043</td>\n",
       "      <td>0.0</td>\n",
       "      <td>10</td>\n",
       "      <td>...</td>\n",
       "      <td>0.193871</td>\n",
       "      <td>0.1905</td>\n",
       "      <td>0.2308</td>\n",
       "      <td>0.3571</td>\n",
       "      <td>0.317643</td>\n",
       "      <td>0.3333</td>\n",
       "      <td>0.1429</td>\n",
       "      <td>0.2500</td>\n",
       "      <td>0.219471</td>\n",
       "      <td>0.2307</td>\n",
       "    </tr>\n",
       "  </tbody>\n",
       "</table>\n",
       "<p>2 rows × 37 columns</p>\n",
       "</div>"
      ],
      "text/plain": [
       "   geohash  average_acceleration-min  average_acceleration-max  \\\n",
       "0  9mgzg6w                       0.0                    0.5535   \n",
       "1  9mgzg6x                       0.0                    0.1830   \n",
       "\n",
       "   average_acceleration-mean  average_acceleration-median  \\\n",
       "0                   0.202611                          0.0   \n",
       "1                   0.026143                          0.0   \n",
       "\n",
       "   percent_vehicles_acceleration-min  percent_vehicles_acceleration-max  \\\n",
       "0                                0.0                             0.5000   \n",
       "1                                0.0                             0.0213   \n",
       "\n",
       "   percent_vehicles_acceleration-mean  percent_vehicles_acceleration-median  \\\n",
       "0                            0.142211                                   0.0   \n",
       "1                            0.003043                                   0.0   \n",
       "\n",
       "   average_monthly_vehicles-min          ...           percent_mdt-mean  \\\n",
       "0                            10          ...                   0.172044   \n",
       "1                            10          ...                   0.193871   \n",
       "\n",
       "   percent_mdt-median  percent_hdt-min  percent_hdt-max  percent_hdt-mean  \\\n",
       "0              0.1500           0.2308           0.4667          0.367478   \n",
       "1              0.1905           0.2308           0.3571          0.317643   \n",
       "\n",
       "   percent_hdt-median  percent_other-min  percent_other-max  \\\n",
       "0              0.3571             0.1429             0.3889   \n",
       "1              0.3333             0.1429             0.2500   \n",
       "\n",
       "   percent_other-mean  percent_other-median  \n",
       "0            0.266822                0.2500  \n",
       "1            0.219471                0.2307  \n",
       "\n",
       "[2 rows x 37 columns]"
      ]
     },
     "metadata": {},
     "output_type": "display_data"
    },
    {
     "name": "stdout",
     "output_type": "stream",
     "text": [
      "153396\n"
     ]
    }
   ],
   "source": [
    "display(road_impediments_gp.head(2))\n",
    "print(road_impediments_gp.shape[0])"
   ]
  },
  {
   "cell_type": "code",
   "execution_count": 75,
   "metadata": {},
   "outputs": [
    {
     "data": {
      "text/plain": [
       "74178"
      ]
     },
     "execution_count": 75,
     "metadata": {},
     "output_type": "execute_result"
    }
   ],
   "source": [
    "len(set(road_impediments_gp['geohash']) & set(vehicle_activity['geohash']))"
   ]
  },
  {
   "cell_type": "code",
   "execution_count": 81,
   "metadata": {
    "collapsed": true
   },
   "outputs": [],
   "source": [
    "road_impediments_gp.to_csv('output/road_impediments_gbgeo.csv.gz', compression='gzip')"
   ]
  },
  {
   "cell_type": "markdown",
   "metadata": {
    "collapsed": true
   },
   "source": [
    "## Save distances"
   ]
  },
  {
   "cell_type": "code",
   "execution_count": 268,
   "metadata": {
    "collapsed": true
   },
   "outputs": [],
   "source": [
    "vehicle_activity.to_csv('output/vehicle_activity_with_distances.csv.gz', compression='gzip', index=False)"
   ]
  },
  {
   "cell_type": "code",
   "execution_count": 269,
   "metadata": {},
   "outputs": [
    {
     "data": {
      "text/plain": [
       "(78439, 74)"
      ]
     },
     "execution_count": 269,
     "metadata": {},
     "output_type": "execute_result"
    }
   ],
   "source": [
    "vehicle_activity.shape"
   ]
  },
  {
   "cell_type": "code",
   "execution_count": 270,
   "metadata": {},
   "outputs": [
    {
     "name": "stdout",
     "output_type": "stream",
     "text": [
      "<class 'pandas.core.frame.DataFrame'>\n",
      "Int64Index: 78439 entries, 21 to 293436\n",
      "Data columns (total 74 columns):\n",
      "geohash                         78439 non-null object\n",
      "city                            78439 non-null object\n",
      "county                          54786 non-null object\n",
      "state                           78439 non-null object\n",
      "metro                           78439 non-null object\n",
      "average_idle_total              77560 non-null float64\n",
      "median_idle_total               77560 non-null float64\n",
      "cumulative_daily_idle_total     77560 non-null float64\n",
      "average_idle_car                77560 non-null float64\n",
      "average_idle_mpv                77560 non-null float64\n",
      "average_idle_ldt                77560 non-null float64\n",
      "average_idle_mdt                77560 non-null float64\n",
      "average_idle_hdt                77560 non-null float64\n",
      "hourly_distribution_idle        77560 non-null object\n",
      "percent_car_idle                77560 non-null float64\n",
      "percent_mpv_idle                77560 non-null float64\n",
      "percent_ldt_idle                77560 non-null float64\n",
      "percent_mdt_idle                77560 non-null float64\n",
      "percent_hdt_idle                77560 non-null float64\n",
      "percent_other_idle              77560 non-null float64\n",
      "percent_gas_idle                77560 non-null float64\n",
      "percent_diesel_idle             77560 non-null float64\n",
      "percent_other_engine_idle       77560 non-null float64\n",
      "average_latitude_park           5949 non-null float64\n",
      "average_longitude_park          5949 non-null float64\n",
      "average_park_time               5949 non-null float64\n",
      "average_park_time_ratio         5949 non-null float64\n",
      "total_searching                 5949 non-null float64\n",
      "percent_searching               5949 non-null float64\n",
      "average_unique_geohashes        5949 non-null float64\n",
      "average_total_geohashes         5949 non-null float64\n",
      "circling_distribution           5949 non-null object\n",
      "hourly_distribution_park        5949 non-null object\n",
      "percent_car_park                5949 non-null float64\n",
      "percent_mpv_park                5949 non-null float64\n",
      "percent_ldt_park                5949 non-null float64\n",
      "percent_mdt_park                5949 non-null float64\n",
      "percent_hdt_park                5949 non-null float64\n",
      "percent_other_park              5949 non-null float64\n",
      "latitude                        78439 non-null float64\n",
      "longitude                       78439 non-null float64\n",
      "closest_fuel_station_k1         78439 non-null float64\n",
      "closest_fuel_station_k3         78439 non-null float64\n",
      "closest_fuel_station_k5         78439 non-null float64\n",
      "cell_coverage_dark_spot_k1      78439 non-null float64\n",
      "cell_coverage_dark_spot_k3      78439 non-null float64\n",
      "cell_coverage_dark_spot_k5      78439 non-null float64\n",
      "heavy_duty_parking_k1           78439 non-null float64\n",
      "heavy_duty_parking_k3           78439 non-null float64\n",
      "heavy_duty_parking_k5           78439 non-null float64\n",
      "service_center_metrics_k1       78439 non-null float64\n",
      "service_center_metrics_k3       78439 non-null float64\n",
      "service_center_metrics_k5       78439 non-null float64\n",
      "public_services_locations_k1    78439 non-null float64\n",
      "public_services_locations_k3    78439 non-null float64\n",
      "public_services_locations_k5    78439 non-null float64\n",
      "cell_structure_k1               78439 non-null float64\n",
      "cell_structure_k3               78439 non-null float64\n",
      "cell_structure_k5               78439 non-null float64\n",
      "college_k1                      78439 non-null float64\n",
      "college_k3                      78439 non-null float64\n",
      "college_k5                      78439 non-null float64\n",
      "hospital_k1                     78439 non-null float64\n",
      "hospital_k3                     78439 non-null float64\n",
      "hospital_k5                     78439 non-null float64\n",
      "sports_venue_k1                 78439 non-null float64\n",
      "sports_venue_k3                 78439 non-null float64\n",
      "sports_venue_k5                 78439 non-null float64\n",
      "church_k1                       78439 non-null float64\n",
      "church_k3                       78439 non-null float64\n",
      "church_k5                       78439 non-null float64\n",
      "school_k1                       78439 non-null float64\n",
      "school_k3                       78439 non-null float64\n",
      "school_k5                       78439 non-null float64\n",
      "dtypes: float64(66), object(8)\n",
      "memory usage: 44.9+ MB\n"
     ]
    }
   ],
   "source": [
    "vehicle_activity.info()"
   ]
  },
  {
   "cell_type": "code",
   "execution_count": 255,
   "metadata": {
    "collapsed": true
   },
   "outputs": [],
   "source": [
    "import matplotlib.pyplot as plt"
   ]
  },
  {
   "cell_type": "code",
   "execution_count": 258,
   "metadata": {},
   "outputs": [
    {
     "data": {
      "text/plain": [
       "(array([ 54786.,      0.,      0.,      0.,      0.,      0.,      0.,\n",
       "             0.,      0.,  23653.]),\n",
       " array([  1.68552171e-02,   8.61303464e+01,   1.72243838e+02,\n",
       "          2.58357329e+02,   3.44470820e+02,   4.30584311e+02,\n",
       "          5.16697802e+02,   6.02811293e+02,   6.88924785e+02,\n",
       "          7.75038276e+02,   8.61151767e+02]),\n",
       " <a list of 10 Patch objects>)"
      ]
     },
     "execution_count": 258,
     "metadata": {},
     "output_type": "execute_result"
    },
    {
     "data": {
      "image/png": "[encoded data removed]",
      "text/plain": [
       "<matplotlib.figure.Figure at 0x7f441f536320>"
      ]
     },
     "metadata": {},
     "output_type": "display_data"
    }
   ],
   "source": [
    "plt.hist(vehicle_activity['school_k1'])"
   ]
  },
  {
   "cell_type": "code",
   "execution_count": 260,
   "metadata": {},
   "outputs": [
    {
     "data": {
      "text/plain": [
       "(array([ 31203.,  10865.,   3475.,   1758.,   1213.,   1215.,    933.,\n",
       "           885.,    714.]),\n",
       " array([0, 1, 2, 3, 4, 5, 6, 7, 8, 9]),\n",
       " <a list of 9 Patch objects>)"
      ]
     },
     "execution_count": 260,
     "metadata": {},
     "output_type": "execute_result"
    },
    {
     "data": {
      "image/png": "[encoded data removed]",
      "text/plain": [
       "<matplotlib.figure.Figure at 0x7f441b064908>"
      ]
     },
     "metadata": {},
     "output_type": "display_data"
    }
   ],
   "source": [
    "plt.hist(vehicle_activity['school_k1'], range(0, 10))"
   ]
  },
  {
   "cell_type": "code",
   "execution_count": null,
   "metadata": {
    "collapsed": true
   },
   "outputs": [],
   "source": []
  },
  {
   "cell_type": "code",
   "execution_count": 262,
   "metadata": {},
   "outputs": [],
   "source": [
    "outliers = vehicle_activity[vehicle_activity['school_k1'] > 400]"
   ]
  },
  {
   "cell_type": "code",
   "execution_count": 263,
   "metadata": {},
   "outputs": [
    {
     "data": {
      "text/plain": [
       "{'Toronto'}"
      ]
     },
     "execution_count": 263,
     "metadata": {},
     "output_type": "execute_result"
    }
   ],
   "source": [
    "set(outliers['city'])"
   ]
  },
  {
   "cell_type": "code",
   "execution_count": 267,
   "metadata": {},
   "outputs": [
    {
     "data": {
      "text/plain": [
       "(array([ 37782.,   7076.,   1456.,   1939.,   1868.,   1953.,   1350.,\n",
       "           710.,    400.,    252.]),\n",
       " array([  0.17614462,   2.35202767,   4.52791072,   6.70379377,\n",
       "          8.87967682,  11.05555987,  13.23144293,  15.40732598,\n",
       "         17.58320903,  19.75909208,  21.93497513]),\n",
       " <a list of 10 Patch objects>)"
      ]
     },
     "execution_count": 267,
     "metadata": {},
     "output_type": "execute_result"
    },
    {
     "data": {
      "image/png": "[encoded data removed]",
      "text/plain": [
       "<matplotlib.figure.Figure at 0x7f441934a8d0>"
      ]
     },
     "metadata": {},
     "output_type": "display_data"
    }
   ],
   "source": [
    "plt.hist(vehicle_activity[vehicle_activity['city'] != 'Toronto']['school_k5'])"
   ]
  },
  {
   "cell_type": "code",
   "execution_count": null,
   "metadata": {
    "collapsed": true
   },
   "outputs": [],
   "source": []
  }
 ],
 "metadata": {
  "anaconda-cloud": {},
  "kernelspec": {
   "display_name": "Python [default]",
   "language": "python",
   "name": "python3"
  },
  "language_info": {
   "codemirror_mode": {
    "name": "ipython",
    "version": 3
   },
   "file_extension": ".py",
   "mimetype": "text/x-python",
   "name": "python",
   "nbconvert_exporter": "python",
   "pygments_lexer": "ipython3",
   "version": "3.6.2"
  },
  "toc": {
   "colors": {
    "hover_highlight": "#DAA520",
    "navigate_num": "#000000",
    "navigate_text": "#333333",
    "running_highlight": "#FF0000",
    "selected_highlight": "#FFD700",
    "sidebar_border": "#EEEEEE",
    "wrapper_background": "#FFFFFF"
   },
   "moveMenuLeft": true,
   "nav_menu": {
    "height": "366px",
    "width": "252px"
   },
   "navigate_menu": true,
   "number_sections": false,
   "sideBar": false,
   "threshold": 4,
   "toc_cell": false,
   "toc_position": {
    "height": "451px",
    "left": "1159.98px",
    "right": "20px",
    "top": "85.9722px",
    "width": "318px"
   },
   "toc_section_display": "block",
   "toc_window_display": true,
   "widenNotebook": false
  }
 },
 "nbformat": 4,
 "nbformat_minor": 2
}
