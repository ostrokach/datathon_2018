{
 "cells": [
  {
   "cell_type": "code",
   "execution_count": 115,
   "metadata": {
    "collapsed": true
   },
   "outputs": [],
   "source": [
    "import numpy as np\n",
    "import pandas as pd"
   ]
  },
  {
   "cell_type": "code",
   "execution_count": 116,
   "metadata": {},
   "outputs": [],
   "source": [
    "from sklearn import ensemble"
   ]
  },
  {
   "cell_type": "code",
   "execution_count": null,
   "metadata": {
    "collapsed": true
   },
   "outputs": [],
   "source": [
    "import matplotlib.pyplot as plt"
   ]
  },
  {
   "cell_type": "code",
   "execution_count": null,
   "metadata": {
    "collapsed": true
   },
   "outputs": [],
   "source": [
    "%matplotlib inline"
   ]
  },
  {
   "cell_type": "markdown",
   "metadata": {},
   "source": [
    "# Load data"
   ]
  },
  {
   "cell_type": "code",
   "execution_count": 117,
   "metadata": {},
   "outputs": [
    {
     "name": "stdout",
     "output_type": "stream",
     "text": [
      "psl_df_cleaned.csv\t       va_df_houston.csv\r\n",
      "road_impediments_gbgeo.csv.gz  va_df_la.csv\r\n",
      "va_df_atlanta.csv\t       va_df_raleigh.csv\r\n",
      "va_df_denver.csv\t       vehicle_activity_dense_long_lat.csv.zip\r\n",
      "va_df_durham.csv\t       vehicle_activity_with_distances.csv.gz\r\n"
     ]
    }
   ],
   "source": [
    "!ls ../training_data/"
   ]
  },
  {
   "cell_type": "code",
   "execution_count": 118,
   "metadata": {
    "collapsed": true
   },
   "outputs": [],
   "source": [
    "cities = ['atlanta', 'denver', 'durham', 'houston', 'la', 'raleigh']"
   ]
  },
  {
   "cell_type": "code",
   "execution_count": 119,
   "metadata": {
    "collapsed": true
   },
   "outputs": [],
   "source": [
    "DATA = {}\n",
    "\n",
    "for city in cities:\n",
    "    DATA[city] = pd.read_csv(f'../training_data/va_df_{city}.csv')"
   ]
  },
  {
   "cell_type": "code",
   "execution_count": 120,
   "metadata": {},
   "outputs": [
    {
     "data": {
      "text/html": [
       "<div>\n",
       "<style>\n",
       "    .dataframe thead tr:only-child th {\n",
       "        text-align: right;\n",
       "    }\n",
       "\n",
       "    .dataframe thead th {\n",
       "        text-align: left;\n",
       "    }\n",
       "\n",
       "    .dataframe tbody tr th {\n",
       "        vertical-align: top;\n",
       "    }\n",
       "</style>\n",
       "<table border=\"1\" class=\"dataframe\">\n",
       "  <thead>\n",
       "    <tr style=\"text-align: right;\">\n",
       "      <th></th>\n",
       "      <th>Unnamed: 0</th>\n",
       "      <th>geohash</th>\n",
       "      <th>lat</th>\n",
       "      <th>long</th>\n",
       "      <th>city</th>\n",
       "      <th>average_idle_total</th>\n",
       "      <th>median_idle_total</th>\n",
       "      <th>cumulative_daily_idle_total</th>\n",
       "      <th>average_park_time</th>\n",
       "      <th>average_park_time_ratio</th>\n",
       "      <th>total_searching</th>\n",
       "      <th>percent_searching</th>\n",
       "    </tr>\n",
       "  </thead>\n",
       "  <tbody>\n",
       "    <tr>\n",
       "      <th>0</th>\n",
       "      <td>0</td>\n",
       "      <td>9q5cu0z</td>\n",
       "      <td>34.06</td>\n",
       "      <td>-118.29</td>\n",
       "      <td>Los Angeles</td>\n",
       "      <td>7.2526</td>\n",
       "      <td>5.9167</td>\n",
       "      <td>75.0995</td>\n",
       "      <td>6.3136</td>\n",
       "      <td>1.4596</td>\n",
       "      <td>11.0</td>\n",
       "      <td>0.0940</td>\n",
       "    </tr>\n",
       "    <tr>\n",
       "      <th>1</th>\n",
       "      <td>1</td>\n",
       "      <td>9q5cf6b</td>\n",
       "      <td>34.07</td>\n",
       "      <td>-118.38</td>\n",
       "      <td>Los Angeles</td>\n",
       "      <td>8.2758</td>\n",
       "      <td>7.1667</td>\n",
       "      <td>119.3317</td>\n",
       "      <td>6.2867</td>\n",
       "      <td>1.7713</td>\n",
       "      <td>5.0</td>\n",
       "      <td>0.0568</td>\n",
       "    </tr>\n",
       "  </tbody>\n",
       "</table>\n",
       "</div>"
      ],
      "text/plain": [
       "   Unnamed: 0  geohash    lat    long         city  average_idle_total  \\\n",
       "0           0  9q5cu0z  34.06 -118.29  Los Angeles              7.2526   \n",
       "1           1  9q5cf6b  34.07 -118.38  Los Angeles              8.2758   \n",
       "\n",
       "   median_idle_total  cumulative_daily_idle_total  average_park_time  \\\n",
       "0             5.9167                      75.0995             6.3136   \n",
       "1             7.1667                     119.3317             6.2867   \n",
       "\n",
       "   average_park_time_ratio  total_searching  percent_searching  \n",
       "0                   1.4596             11.0             0.0940  \n",
       "1                   1.7713              5.0             0.0568  "
      ]
     },
     "metadata": {},
     "output_type": "display_data"
    },
    {
     "name": "stdout",
     "output_type": "stream",
     "text": [
      "(18302, 12)\n"
     ]
    }
   ],
   "source": [
    "display(DATA['la'].head(2))\n",
    "print(DATA['la'].shape)"
   ]
  },
  {
   "cell_type": "markdown",
   "metadata": {},
   "source": [
    "## `road_impediments_gbgeo`"
   ]
  },
  {
   "cell_type": "code",
   "execution_count": 121,
   "metadata": {
    "collapsed": true
   },
   "outputs": [],
   "source": [
    "road_impediments_gbgeo = pd.read_csv('../training_data/road_impediments_gbgeo.csv.gz')"
   ]
  },
  {
   "cell_type": "code",
   "execution_count": 122,
   "metadata": {},
   "outputs": [
    {
     "data": {
      "text/plain": [
       "Index(['Unnamed: 0', 'geohash', 'average_acceleration-min',\n",
       "       'average_acceleration-max', 'average_acceleration-mean',\n",
       "       'average_acceleration-median', 'percent_vehicles_acceleration-min',\n",
       "       'percent_vehicles_acceleration-max',\n",
       "       'percent_vehicles_acceleration-mean',\n",
       "       'percent_vehicles_acceleration-median', 'average_monthly_vehicles-min',\n",
       "       'average_monthly_vehicles-max', 'average_monthly_vehicles-mean',\n",
       "       'average_monthly_vehicles-median', 'percent_car-min', 'percent_car-max',\n",
       "       'percent_car-mean', 'percent_car-median', 'percent_mpv-min',\n",
       "       'percent_mpv-max', 'percent_mpv-mean', 'percent_mpv-median',\n",
       "       'percent_ldt-min', 'percent_ldt-max', 'percent_ldt-mean',\n",
       "       'percent_ldt-median', 'percent_mdt-min', 'percent_mdt-max',\n",
       "       'percent_mdt-mean', 'percent_mdt-median', 'percent_hdt-min',\n",
       "       'percent_hdt-max', 'percent_hdt-mean', 'percent_hdt-median',\n",
       "       'percent_other-min', 'percent_other-max', 'percent_other-mean',\n",
       "       'percent_other-median'],\n",
       "      dtype='object')"
      ]
     },
     "execution_count": 122,
     "metadata": {},
     "output_type": "execute_result"
    }
   ],
   "source": [
    "road_impediments_gbgeo.columns"
   ]
  },
  {
   "cell_type": "code",
   "execution_count": 123,
   "metadata": {
    "collapsed": true
   },
   "outputs": [],
   "source": [
    "road_impediments_gbgeo_columns = [ 'average_acceleration-min',\n",
    "       'average_acceleration-max', 'average_acceleration-mean',\n",
    "       'average_acceleration-median', 'percent_vehicles_acceleration-min',\n",
    "       'percent_vehicles_acceleration-max',\n",
    "       'percent_vehicles_acceleration-mean',\n",
    "       'percent_vehicles_acceleration-median', 'average_monthly_vehicles-min',\n",
    "       'average_monthly_vehicles-max', 'average_monthly_vehicles-mean',\n",
    "       'average_monthly_vehicles-median', 'percent_car-min', 'percent_car-max',\n",
    "       'percent_car-mean', 'percent_car-median', 'percent_mpv-min',\n",
    "       'percent_mpv-max', 'percent_mpv-mean', 'percent_mpv-median',\n",
    "       'percent_ldt-min', 'percent_ldt-max', 'percent_ldt-mean',\n",
    "       'percent_ldt-median', 'percent_mdt-min', 'percent_mdt-max',\n",
    "       'percent_mdt-mean', 'percent_mdt-median', 'percent_hdt-min',\n",
    "       'percent_hdt-max', 'percent_hdt-mean', 'percent_hdt-median',\n",
    "       'percent_other-min', 'percent_other-max', 'percent_other-mean',\n",
    "       'percent_other-median',\n",
    "]"
   ]
  },
  {
   "cell_type": "markdown",
   "metadata": {},
   "source": [
    "## `vehicle_activity_with_distances`"
   ]
  },
  {
   "cell_type": "code",
   "execution_count": 124,
   "metadata": {},
   "outputs": [
    {
     "name": "stderr",
     "output_type": "stream",
     "text": [
      "/home/strokach/anaconda3/lib/python3.6/site-packages/IPython/core/interactiveshell.py:2718: DtypeWarning: Columns (3) have mixed types. Specify dtype option on import or set low_memory=False.\n",
      "  interactivity=interactivity, compiler=compiler, result=result)\n"
     ]
    }
   ],
   "source": [
    "vehicle_activity_with_distances = pd.read_csv('../training_data/vehicle_activity_with_distances.csv.gz')"
   ]
  },
  {
   "cell_type": "code",
   "execution_count": 125,
   "metadata": {},
   "outputs": [
    {
     "data": {
      "text/html": [
       "<div>\n",
       "<style>\n",
       "    .dataframe thead tr:only-child th {\n",
       "        text-align: right;\n",
       "    }\n",
       "\n",
       "    .dataframe thead th {\n",
       "        text-align: left;\n",
       "    }\n",
       "\n",
       "    .dataframe tbody tr th {\n",
       "        vertical-align: top;\n",
       "    }\n",
       "</style>\n",
       "<table border=\"1\" class=\"dataframe\">\n",
       "  <thead>\n",
       "    <tr style=\"text-align: right;\">\n",
       "      <th></th>\n",
       "      <th>Unnamed: 0</th>\n",
       "      <th>geohash</th>\n",
       "      <th>city</th>\n",
       "      <th>county</th>\n",
       "      <th>state</th>\n",
       "      <th>metro</th>\n",
       "      <th>average_idle_total</th>\n",
       "      <th>median_idle_total</th>\n",
       "      <th>cumulative_daily_idle_total</th>\n",
       "      <th>average_idle_car</th>\n",
       "      <th>...</th>\n",
       "      <th>hospital_k5</th>\n",
       "      <th>sports_venue_k1</th>\n",
       "      <th>sports_venue_k3</th>\n",
       "      <th>sports_venue_k5</th>\n",
       "      <th>church_k1</th>\n",
       "      <th>church_k3</th>\n",
       "      <th>church_k5</th>\n",
       "      <th>school_k1</th>\n",
       "      <th>school_k3</th>\n",
       "      <th>school_k5</th>\n",
       "    </tr>\n",
       "  </thead>\n",
       "  <tbody>\n",
       "    <tr>\n",
       "      <th>0</th>\n",
       "      <td>21</td>\n",
       "      <td>9q5cu0z</td>\n",
       "      <td>Los Angeles</td>\n",
       "      <td>Los Angeles</td>\n",
       "      <td>California</td>\n",
       "      <td>Los Angeles-Long Beach-Anaheim, CA</td>\n",
       "      <td>7.2526</td>\n",
       "      <td>5.9167</td>\n",
       "      <td>75.0995</td>\n",
       "      <td>8.1452</td>\n",
       "      <td>...</td>\n",
       "      <td>1.858249</td>\n",
       "      <td>2.820807</td>\n",
       "      <td>4.040846</td>\n",
       "      <td>6.344712</td>\n",
       "      <td>0.815988</td>\n",
       "      <td>2.311438</td>\n",
       "      <td>4.060180</td>\n",
       "      <td>0.346995</td>\n",
       "      <td>0.409768</td>\n",
       "      <td>0.446790</td>\n",
       "    </tr>\n",
       "    <tr>\n",
       "      <th>1</th>\n",
       "      <td>57</td>\n",
       "      <td>9q5cf6b</td>\n",
       "      <td>Los Angeles</td>\n",
       "      <td>Los Angeles</td>\n",
       "      <td>California</td>\n",
       "      <td>Los Angeles-Long Beach-Anaheim, CA</td>\n",
       "      <td>8.2758</td>\n",
       "      <td>7.1667</td>\n",
       "      <td>119.3317</td>\n",
       "      <td>5.5510</td>\n",
       "      <td>...</td>\n",
       "      <td>2.368051</td>\n",
       "      <td>6.152981</td>\n",
       "      <td>9.133728</td>\n",
       "      <td>10.011422</td>\n",
       "      <td>2.129068</td>\n",
       "      <td>3.572366</td>\n",
       "      <td>5.162235</td>\n",
       "      <td>1.296467</td>\n",
       "      <td>1.527772</td>\n",
       "      <td>1.772008</td>\n",
       "    </tr>\n",
       "  </tbody>\n",
       "</table>\n",
       "<p>2 rows × 75 columns</p>\n",
       "</div>"
      ],
      "text/plain": [
       "   Unnamed: 0  geohash         city       county       state  \\\n",
       "0          21  9q5cu0z  Los Angeles  Los Angeles  California   \n",
       "1          57  9q5cf6b  Los Angeles  Los Angeles  California   \n",
       "\n",
       "                                metro  average_idle_total  median_idle_total  \\\n",
       "0  Los Angeles-Long Beach-Anaheim, CA              7.2526             5.9167   \n",
       "1  Los Angeles-Long Beach-Anaheim, CA              8.2758             7.1667   \n",
       "\n",
       "   cumulative_daily_idle_total  average_idle_car    ...      hospital_k5  \\\n",
       "0                      75.0995            8.1452    ...         1.858249   \n",
       "1                     119.3317            5.5510    ...         2.368051   \n",
       "\n",
       "   sports_venue_k1  sports_venue_k3  sports_venue_k5 church_k1  church_k3  \\\n",
       "0         2.820807         4.040846         6.344712  0.815988   2.311438   \n",
       "1         6.152981         9.133728        10.011422  2.129068   3.572366   \n",
       "\n",
       "   church_k5  school_k1  school_k3  school_k5  \n",
       "0   4.060180   0.346995   0.409768   0.446790  \n",
       "1   5.162235   1.296467   1.527772   1.772008  \n",
       "\n",
       "[2 rows x 75 columns]"
      ]
     },
     "metadata": {},
     "output_type": "display_data"
    },
    {
     "name": "stdout",
     "output_type": "stream",
     "text": [
      "(78439, 75)\n",
      "78439\n"
     ]
    }
   ],
   "source": [
    "display(vehicle_activity_with_distances.head(2))\n",
    "print(vehicle_activity_with_distances.shape)\n",
    "print(len(set(vehicle_activity_with_distances['geohash'])))"
   ]
  },
  {
   "cell_type": "code",
   "execution_count": 126,
   "metadata": {},
   "outputs": [
    {
     "data": {
      "text/plain": [
       "Index(['Unnamed: 0', 'geohash', 'city', 'county', 'state', 'metro',\n",
       "       'average_idle_total', 'median_idle_total',\n",
       "       'cumulative_daily_idle_total', 'average_idle_car', 'average_idle_mpv',\n",
       "       'average_idle_ldt', 'average_idle_mdt', 'average_idle_hdt',\n",
       "       'hourly_distribution_idle', 'percent_car_idle', 'percent_mpv_idle',\n",
       "       'percent_ldt_idle', 'percent_mdt_idle', 'percent_hdt_idle',\n",
       "       'percent_other_idle', 'percent_gas_idle', 'percent_diesel_idle',\n",
       "       'percent_other_engine_idle', 'average_latitude_park',\n",
       "       'average_longitude_park', 'average_park_time',\n",
       "       'average_park_time_ratio', 'total_searching', 'percent_searching',\n",
       "       'average_unique_geohashes', 'average_total_geohashes',\n",
       "       'circling_distribution', 'hourly_distribution_park', 'percent_car_park',\n",
       "       'percent_mpv_park', 'percent_ldt_park', 'percent_mdt_park',\n",
       "       'percent_hdt_park', 'percent_other_park', 'latitude', 'longitude',\n",
       "       'closest_fuel_station_k1', 'closest_fuel_station_k3',\n",
       "       'closest_fuel_station_k5', 'cell_coverage_dark_spot_k1',\n",
       "       'cell_coverage_dark_spot_k3', 'cell_coverage_dark_spot_k5',\n",
       "       'heavy_duty_parking_k1', 'heavy_duty_parking_k3',\n",
       "       'heavy_duty_parking_k5', 'service_center_metrics_k1',\n",
       "       'service_center_metrics_k3', 'service_center_metrics_k5',\n",
       "       'public_services_locations_k1', 'public_services_locations_k3',\n",
       "       'public_services_locations_k5', 'cell_structure_k1',\n",
       "       'cell_structure_k3', 'cell_structure_k5', 'college_k1', 'college_k3',\n",
       "       'college_k5', 'hospital_k1', 'hospital_k3', 'hospital_k5',\n",
       "       'sports_venue_k1', 'sports_venue_k3', 'sports_venue_k5', 'church_k1',\n",
       "       'church_k3', 'church_k5', 'school_k1', 'school_k3', 'school_k5'],\n",
       "      dtype='object')"
      ]
     },
     "execution_count": 126,
     "metadata": {},
     "output_type": "execute_result"
    }
   ],
   "source": [
    "vehicle_activity_with_distances.columns"
   ]
  },
  {
   "cell_type": "code",
   "execution_count": 127,
   "metadata": {
    "collapsed": true
   },
   "outputs": [],
   "source": [
    "vehicle_activity_with_distances_columns = [\n",
    "    'closest_fuel_station_k1', 'closest_fuel_station_k3',\n",
    "       'closest_fuel_station_k5', 'cell_coverage_dark_spot_k1',\n",
    "       'cell_coverage_dark_spot_k3', 'cell_coverage_dark_spot_k5',\n",
    "       'heavy_duty_parking_k1', 'heavy_duty_parking_k3',\n",
    "       'heavy_duty_parking_k5', 'service_center_metrics_k1',\n",
    "       'service_center_metrics_k3', 'service_center_metrics_k5',\n",
    "       'public_services_locations_k1', 'public_services_locations_k3',\n",
    "       'public_services_locations_k5', 'cell_structure_k1',\n",
    "       'cell_structure_k3', 'cell_structure_k5', 'college_k1', 'college_k3',\n",
    "       'college_k5', 'hospital_k1', 'hospital_k3', 'hospital_k5',\n",
    "       'sports_venue_k1', 'sports_venue_k3', 'sports_venue_k5', 'church_k1',\n",
    "       'church_k3', 'church_k5', 'school_k1', 'school_k3', 'school_k5',\n",
    "    \n",
    "]"
   ]
  },
  {
   "cell_type": "markdown",
   "metadata": {},
   "source": [
    "# Train model for city"
   ]
  },
  {
   "cell_type": "code",
   "execution_count": 163,
   "metadata": {},
   "outputs": [],
   "source": [
    "data = (\n",
    "    DATA['la']\n",
    "    .merge(road_impediments_gbgeo[['geohash'] + road_impediments_gbgeo_columns], on=['geohash'], how='left')\n",
    "    .merge(vehicle_activity_with_distances[['geohash'] + vehicle_activity_with_distances_columns], on=['geohash'])\n",
    ")"
   ]
  },
  {
   "cell_type": "code",
   "execution_count": 164,
   "metadata": {},
   "outputs": [],
   "source": [
    "assert len(data) == len(DATA['la'])"
   ]
  },
  {
   "cell_type": "code",
   "execution_count": 165,
   "metadata": {
    "collapsed": true
   },
   "outputs": [],
   "source": [
    "feature_names = road_impediments_gbgeo_columns + vehicle_activity_with_distances_columns"
   ]
  },
  {
   "cell_type": "code",
   "execution_count": 167,
   "metadata": {},
   "outputs": [],
   "source": [
    "null_mask = data[feature_names + ['average_idle_total']].isnull().any(axis=1)"
   ]
  },
  {
   "cell_type": "code",
   "execution_count": 168,
   "metadata": {},
   "outputs": [
    {
     "data": {
      "text/plain": [
       "1106"
      ]
     },
     "execution_count": 168,
     "metadata": {},
     "output_type": "execute_result"
    }
   ],
   "source": [
    "null_mask.sum()"
   ]
  },
  {
   "cell_type": "code",
   "execution_count": 169,
   "metadata": {
    "collapsed": true
   },
   "outputs": [],
   "source": [
    "data = data[~null_mask]"
   ]
  },
  {
   "cell_type": "code",
   "execution_count": 170,
   "metadata": {
    "collapsed": true
   },
   "outputs": [],
   "source": [
    "X = data[road_impediments_gbgeo_columns + road_impediments_gbgeo_columns]"
   ]
  },
  {
   "cell_type": "code",
   "execution_count": 171,
   "metadata": {
    "collapsed": true
   },
   "outputs": [],
   "source": [
    "Y = data['average_idle_total']"
   ]
  },
  {
   "cell_type": "code",
   "execution_count": 172,
   "metadata": {},
   "outputs": [],
   "source": [
    "clf = ensemble.GradientBoostingRegressor(\n",
    "    learning_rate=0.1, n_estimators=3_000, subsample=1.0)"
   ]
  },
  {
   "cell_type": "code",
   "execution_count": 173,
   "metadata": {},
   "outputs": [
    {
     "data": {
      "text/plain": [
       "GradientBoostingRegressor(alpha=0.9, criterion='friedman_mse', init=None,\n",
       "             learning_rate=0.1, loss='ls', max_depth=3, max_features=None,\n",
       "             max_leaf_nodes=None, min_impurity_decrease=0.0,\n",
       "             min_impurity_split=None, min_samples_leaf=1,\n",
       "             min_samples_split=2, min_weight_fraction_leaf=0.0,\n",
       "             n_estimators=3000, presort='auto', random_state=None,\n",
       "             subsample=1.0, verbose=0, warm_start=False)"
      ]
     },
     "execution_count": 173,
     "metadata": {},
     "output_type": "execute_result"
    }
   ],
   "source": [
    "clf.fit(X, Y)"
   ]
  },
  {
   "cell_type": "code",
   "execution_count": 174,
   "metadata": {
    "collapsed": true
   },
   "outputs": [],
   "source": [
    "clf_fit = _"
   ]
  },
  {
   "cell_type": "code",
   "execution_count": 175,
   "metadata": {},
   "outputs": [
    {
     "data": {
      "text/plain": [
       "GradientBoostingRegressor(alpha=0.9, criterion='friedman_mse', init=None,\n",
       "             learning_rate=0.1, loss='ls', max_depth=3, max_features=None,\n",
       "             max_leaf_nodes=None, min_impurity_decrease=0.0,\n",
       "             min_impurity_split=None, min_samples_leaf=1,\n",
       "             min_samples_split=2, min_weight_fraction_leaf=0.0,\n",
       "             n_estimators=3000, presort='auto', random_state=None,\n",
       "             subsample=1.0, verbose=0, warm_start=False)"
      ]
     },
     "execution_count": 175,
     "metadata": {},
     "output_type": "execute_result"
    }
   ],
   "source": [
    "clf_fit"
   ]
  },
  {
   "cell_type": "code",
   "execution_count": 176,
   "metadata": {
    "run_control": {
     "marked": false
    }
   },
   "outputs": [
    {
     "ename": "SyntaxError",
     "evalue": "unexpected EOF while parsing (<ipython-input-176-417e13b77977>, line 1)",
     "output_type": "error",
     "traceback": [
      "\u001b[0;36m  File \u001b[0;32m\"<ipython-input-176-417e13b77977>\"\u001b[0;36m, line \u001b[0;32m1\u001b[0m\n\u001b[0;31m    plt.bar(clf.feature_importances_\u001b[0m\n\u001b[0m                                    ^\u001b[0m\n\u001b[0;31mSyntaxError\u001b[0m\u001b[0;31m:\u001b[0m unexpected EOF while parsing\n"
     ]
    }
   ],
   "source": [
    "plt.bar(clf.feature_importances_"
   ]
  },
  {
   "cell_type": "code",
   "execution_count": null,
   "metadata": {},
   "outputs": [],
   "source": [
    "fg, axs = plt.subplots(figsize=(12, 16))\n",
    "feature_importance = clf.feature_importances_\n",
    "# make importances relative to max importance\n",
    "feature_importance = 100.0 * (feature_importance / feature_importance.max())\n",
    "sorted_idx = np.argsort(feature_importance)\n",
    "pos = np.arange(sorted_idx.shape[0]) + .5\n",
    "plt.subplot(1, 2, 2)\n",
    "plt.barh(pos, feature_importance[sorted_idx], align='center')\n",
    "plt.yticks(pos, np.array(feature_names)[sorted_idx])\n",
    "plt.xlabel('Relative Importance')\n",
    "plt.title('Variable Importance')"
   ]
  },
  {
   "cell_type": "code",
   "execution_count": 183,
   "metadata": {
    "collapsed": true
   },
   "outputs": [],
   "source": [
    "import pickle"
   ]
  },
  {
   "cell_type": "code",
   "execution_count": 181,
   "metadata": {},
   "outputs": [],
   "source": [
    "os.makedirs('machine_learning')"
   ]
  },
  {
   "cell_type": "code",
   "execution_count": 182,
   "metadata": {
    "collapsed": true
   },
   "outputs": [],
   "source": [
    "import os"
   ]
  },
  {
   "cell_type": "code",
   "execution_count": 184,
   "metadata": {
    "collapsed": true
   },
   "outputs": [],
   "source": [
    "with open('machine_learning/clf_1.pickle', 'wb') as fout:\n",
    "    pickle.dump(clf, fout)"
   ]
  }
 ],
 "metadata": {
  "anaconda-cloud": {},
  "kernelspec": {
   "display_name": "Python [default]",
   "language": "python",
   "name": "python3"
  },
  "language_info": {
   "codemirror_mode": {
    "name": "ipython",
    "version": 3
   },
   "file_extension": ".py",
   "mimetype": "text/x-python",
   "name": "python",
   "nbconvert_exporter": "python",
   "pygments_lexer": "ipython3",
   "version": "3.6.2"
  },
  "toc": {
   "colors": {
    "hover_highlight": "#DAA520",
    "navigate_num": "#000000",
    "navigate_text": "#333333",
    "running_highlight": "#FF0000",
    "selected_highlight": "#FFD700",
    "sidebar_border": "#EEEEEE",
    "wrapper_background": "#FFFFFF"
   },
   "moveMenuLeft": true,
   "nav_menu": {
    "height": "82px",
    "width": "252px"
   },
   "navigate_menu": true,
   "number_sections": false,
   "sideBar": false,
   "threshold": 4,
   "toc_cell": false,
   "toc_position": {
    "height": "321px",
    "left": "1275.97px",
    "right": "20px",
    "top": "88.9757px",
    "width": "211px"
   },
   "toc_section_display": "block",
   "toc_window_display": true,
   "widenNotebook": false
  }
 },
 "nbformat": 4,
 "nbformat_minor": 2
}
